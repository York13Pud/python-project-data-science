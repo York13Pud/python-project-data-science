{
 "cells": [
  {
   "cell_type": "markdown",
   "metadata": {},
   "source": [
    "# Order Data Analysis."
   ]
  },
  {
   "cell_type": "markdown",
   "metadata": {},
   "source": [
    "## Project Goals and Requirements."
   ]
  },
  {
   "cell_type": "markdown",
   "metadata": {},
   "source": [
    "This project will have a few goals that must be met by the end. These goals are:\n",
    "* Clean up the data, specifically any missing data on any rows.\n",
    "* Create a total column that multiplies the price by the quantity ordered.\n",
    "* Export the results to and Excel workbook / worksheet."
   ]
  },
  {
   "cell_type": "markdown",
   "metadata": {},
   "source": [
    "## Project Solution."
   ]
  },
  {
   "cell_type": "markdown",
   "metadata": {},
   "source": [
    "### Step 1. Import the Required Modules and Libraries."
   ]
  },
  {
   "cell_type": "code",
   "execution_count": 1,
   "metadata": {},
   "outputs": [],
   "source": [
    "import pandas as pd\n",
    "import numpy as np"
   ]
  },
  {
   "cell_type": "markdown",
   "metadata": {},
   "source": [
    "### Step 2. Create a Pandas DataFrame From the Data CSV File."
   ]
  },
  {
   "cell_type": "markdown",
   "metadata": {},
   "source": [
    "In this section, a new Pandas DataFrame will be created from a CSV file.\n",
    "\n",
    "Once that has been done, we will take a look at some of the data and the datatypes of each column in the DataFrame."
   ]
  },
  {
   "cell_type": "markdown",
   "metadata": {},
   "source": [
    "#### Step 2.1. Create the Pandas DataFrame From the CSV File."
   ]
  },
  {
   "cell_type": "code",
   "execution_count": 2,
   "metadata": {},
   "outputs": [],
   "source": [
    "order_data = pd.read_csv(\"data/order-data.csv\")"
   ]
  },
  {
   "cell_type": "markdown",
   "metadata": {},
   "source": [
    "#### Step 2.2. Show the First Five Rows of the Pandas DataFrame."
   ]
  },
  {
   "cell_type": "code",
   "execution_count": 3,
   "metadata": {},
   "outputs": [
    {
     "data": {
      "text/html": [
       "<div>\n",
       "<style scoped>\n",
       "    .dataframe tbody tr th:only-of-type {\n",
       "        vertical-align: middle;\n",
       "    }\n",
       "\n",
       "    .dataframe tbody tr th {\n",
       "        vertical-align: top;\n",
       "    }\n",
       "\n",
       "    .dataframe thead th {\n",
       "        text-align: right;\n",
       "    }\n",
       "</style>\n",
       "<table border=\"1\" class=\"dataframe\">\n",
       "  <thead>\n",
       "    <tr style=\"text-align: right;\">\n",
       "      <th></th>\n",
       "      <th>order_id</th>\n",
       "      <th>order_date</th>\n",
       "      <th>customer_name</th>\n",
       "      <th>item_vendor_name</th>\n",
       "      <th>item</th>\n",
       "      <th>item_qty</th>\n",
       "      <th>price_per_unit</th>\n",
       "      <th>price_currency</th>\n",
       "    </tr>\n",
       "  </thead>\n",
       "  <tbody>\n",
       "    <tr>\n",
       "      <th>0</th>\n",
       "      <td>1</td>\n",
       "      <td>2022/05/31</td>\n",
       "      <td>Jane Bloggs</td>\n",
       "      <td>Wikizz</td>\n",
       "      <td>Lid - 3oz Med Rec</td>\n",
       "      <td>1.0</td>\n",
       "      <td>290.921</td>\n",
       "      <td>GBP</td>\n",
       "    </tr>\n",
       "    <tr>\n",
       "      <th>1</th>\n",
       "      <td>2</td>\n",
       "      <td>2022/06/14</td>\n",
       "      <td>Jane Bloggs</td>\n",
       "      <td>Yodoo</td>\n",
       "      <td>Beans - French</td>\n",
       "      <td>5.0</td>\n",
       "      <td>369.391</td>\n",
       "      <td>GBP</td>\n",
       "    </tr>\n",
       "    <tr>\n",
       "      <th>2</th>\n",
       "      <td>3</td>\n",
       "      <td>2021/08/25</td>\n",
       "      <td>Jane Bloggs</td>\n",
       "      <td>Zoonoodle</td>\n",
       "      <td>Maple Syrup</td>\n",
       "      <td>5.0</td>\n",
       "      <td>496.848</td>\n",
       "      <td>GBP</td>\n",
       "    </tr>\n",
       "    <tr>\n",
       "      <th>3</th>\n",
       "      <td>4</td>\n",
       "      <td>2021/09/01</td>\n",
       "      <td>Jane Bloggs</td>\n",
       "      <td>Skibox</td>\n",
       "      <td>Strawberries - California</td>\n",
       "      <td>5.0</td>\n",
       "      <td>129.945</td>\n",
       "      <td>GBP</td>\n",
       "    </tr>\n",
       "    <tr>\n",
       "      <th>4</th>\n",
       "      <td>5</td>\n",
       "      <td>2021/08/23</td>\n",
       "      <td>Jane Bloggs</td>\n",
       "      <td>Teklist</td>\n",
       "      <td>Lamb - Racks, Frenched</td>\n",
       "      <td>1.0</td>\n",
       "      <td>361.578</td>\n",
       "      <td>GBP</td>\n",
       "    </tr>\n",
       "  </tbody>\n",
       "</table>\n",
       "</div>"
      ],
      "text/plain": [
       "   order_id  order_date customer_name item_vendor_name  \\\n",
       "0         1  2022/05/31   Jane Bloggs           Wikizz   \n",
       "1         2  2022/06/14   Jane Bloggs            Yodoo   \n",
       "2         3  2021/08/25   Jane Bloggs        Zoonoodle   \n",
       "3         4  2021/09/01   Jane Bloggs           Skibox   \n",
       "4         5  2021/08/23   Jane Bloggs          Teklist   \n",
       "\n",
       "                        item  item_qty  price_per_unit price_currency  \n",
       "0          Lid - 3oz Med Rec       1.0         290.921            GBP  \n",
       "1             Beans - French       5.0         369.391            GBP  \n",
       "2                Maple Syrup       5.0         496.848            GBP  \n",
       "3  Strawberries - California       5.0         129.945            GBP  \n",
       "4     Lamb - Racks, Frenched       1.0         361.578            GBP  "
      ]
     },
     "execution_count": 3,
     "metadata": {},
     "output_type": "execute_result"
    }
   ],
   "source": [
    "order_data.head(n = 5)"
   ]
  },
  {
   "cell_type": "markdown",
   "metadata": {},
   "source": [
    "#### Step 2.3. Show the DataTypes of Each Column in the Pandas DataFrame."
   ]
  },
  {
   "cell_type": "code",
   "execution_count": 4,
   "metadata": {},
   "outputs": [
    {
     "name": "stdout",
     "output_type": "stream",
     "text": [
      "<class 'pandas.core.frame.DataFrame'>\n",
      "RangeIndex: 1000 entries, 0 to 999\n",
      "Data columns (total 8 columns):\n",
      " #   Column            Non-Null Count  Dtype  \n",
      "---  ------            --------------  -----  \n",
      " 0   order_id          1000 non-null   int64  \n",
      " 1   order_date        983 non-null    object \n",
      " 2   customer_name     892 non-null    object \n",
      " 3   item_vendor_name  1000 non-null   object \n",
      " 4   item              892 non-null    object \n",
      " 5   item_qty          927 non-null    float64\n",
      " 6   price_per_unit    944 non-null    float64\n",
      " 7   price_currency    892 non-null    object \n",
      "dtypes: float64(2), int64(1), object(5)\n",
      "memory usage: 62.6+ KB\n"
     ]
    }
   ],
   "source": [
    "order_data.info()"
   ]
  },
  {
   "cell_type": "markdown",
   "metadata": {},
   "source": [
    "#### Step 2.4. Show the Total Row Count in the Pandas DataFrame."
   ]
  },
  {
   "cell_type": "code",
   "execution_count": 5,
   "metadata": {},
   "outputs": [
    {
     "name": "stdout",
     "output_type": "stream",
     "text": [
      "Total Rows (Before NaN Removal): 1000\n"
     ]
    }
   ],
   "source": [
    "print(f\"Total Rows (Before NaN Removal): {len(order_data)}\")"
   ]
  },
  {
   "cell_type": "markdown",
   "metadata": {},
   "source": [
    "### Step 3. Check for NaN (null) Values and Clean-Up."
   ]
  },
  {
   "cell_type": "markdown",
   "metadata": {},
   "source": [
    "Before performing any kind of data manipulation, the data needs to be cleaned up. Firstly, the data will be checked for NaN (Not a Number - basically an empty (null value) cell) in any of the rows / columns (axes) and depending upon the criteria, will be either removed or changed.\n",
    "\n",
    "Here are the rules for the clean-up of the data:\n",
    "* order_id missing: Delete row.\n",
    "* order_date missing: Delete row.\n",
    "* customer_name missing: Set name to \"Jane Bloggs\".\n",
    "* item_vendor_name missing: Set name to \"Unknown\".\n",
    "* item: Remove any \",\" from the description and replace with \" -\".\n",
    "* item missing: Delete row.\n",
    "* item_qty missing: Delete row.\n",
    "* price_per_unit missing: Delete row.\n",
    "* price_currency missing: Set to \"GBP\".\n",
    "\n",
    "Prior to deleting any rows from the Pandas DataFrame, those rows will be added to a new Pandas DataFrame called order_data_removed so that it can then be added to a separate Excel worksheet for reference."
   ]
  },
  {
   "cell_type": "markdown",
   "metadata": {},
   "source": [
    "#### Step 3.1. Check for NaN In All Rows / Columns."
   ]
  },
  {
   "cell_type": "code",
   "execution_count": 6,
   "metadata": {},
   "outputs": [
    {
     "data": {
      "text/plain": [
       "order_id              0\n",
       "order_date           17\n",
       "customer_name       108\n",
       "item_vendor_name      0\n",
       "item                108\n",
       "item_qty             73\n",
       "price_per_unit       56\n",
       "price_currency      108\n",
       "dtype: int64"
      ]
     },
     "execution_count": 6,
     "metadata": {},
     "output_type": "execute_result"
    }
   ],
   "source": [
    "order_data.isna().sum()"
   ]
  },
  {
   "cell_type": "markdown",
   "metadata": {},
   "source": [
    "#### Step 3.2. Replace NaN Values (Where Required)."
   ]
  },
  {
   "cell_type": "markdown",
   "metadata": {},
   "source": [
    "Replace NaN in customer_name with \"Jane Bloggs\":"
   ]
  },
  {
   "cell_type": "code",
   "execution_count": 7,
   "metadata": {},
   "outputs": [],
   "source": [
    "order_data[\"customer_name\"].fillna(value = \"Jane Bloggs\",\n",
    "                                   inplace = True)"
   ]
  },
  {
   "cell_type": "markdown",
   "metadata": {},
   "source": [
    "Check for any NaN values in customer_name:"
   ]
  },
  {
   "cell_type": "code",
   "execution_count": 8,
   "metadata": {},
   "outputs": [
    {
     "name": "stdout",
     "output_type": "stream",
     "text": [
      "customer_name NaN: 0\n"
     ]
    }
   ],
   "source": [
    "print(f'customer_name NaN: {order_data[\"customer_name\"].isna().sum()}')"
   ]
  },
  {
   "cell_type": "markdown",
   "metadata": {},
   "source": [
    "Replace NaN in item_vendor_name with \"Unknown\":"
   ]
  },
  {
   "cell_type": "code",
   "execution_count": 9,
   "metadata": {},
   "outputs": [],
   "source": [
    "order_data[\"item_vendor_name\"].fillna(value = \"Unknown\",\n",
    "                                   inplace = True)"
   ]
  },
  {
   "cell_type": "markdown",
   "metadata": {},
   "source": [
    "Check for any NaN values in item_vendor_name:"
   ]
  },
  {
   "cell_type": "code",
   "execution_count": 10,
   "metadata": {},
   "outputs": [
    {
     "name": "stdout",
     "output_type": "stream",
     "text": [
      "item_vendor_name NaN: 0\n"
     ]
    }
   ],
   "source": [
    "print(f'item_vendor_name NaN: {order_data[\"item_vendor_name\"].isna().sum()}')"
   ]
  },
  {
   "cell_type": "markdown",
   "metadata": {},
   "source": [
    "Replace NaN in price_currency with \"GBP\":"
   ]
  },
  {
   "cell_type": "code",
   "execution_count": 11,
   "metadata": {},
   "outputs": [],
   "source": [
    "order_data[\"price_currency\"].fillna(value = \"GBP\",\n",
    "                                   inplace = True)"
   ]
  },
  {
   "cell_type": "markdown",
   "metadata": {},
   "source": [
    "Check for any NaN values in price_currency:"
   ]
  },
  {
   "cell_type": "code",
   "execution_count": 12,
   "metadata": {},
   "outputs": [
    {
     "name": "stdout",
     "output_type": "stream",
     "text": [
      "price_currency NaN: 0\n"
     ]
    }
   ],
   "source": [
    "print(f'price_currency NaN: {order_data[\"price_currency\"].isna().sum()}')"
   ]
  },
  {
   "cell_type": "markdown",
   "metadata": {},
   "source": [
    "#### Step 3.3. Replace \",\" with \" -\" in item Column."
   ]
  },
  {
   "cell_type": "markdown",
   "metadata": {},
   "source": [
    "Just to play safe, remove any \",\" in the item column with \" -\" so that there are no issues with exporting to CSV (if you wanted to) or any other format where \",\" could cause issues. There could also be issues with running other operations that you may wish to use."
   ]
  },
  {
   "cell_type": "code",
   "execution_count": 13,
   "metadata": {},
   "outputs": [],
   "source": [
    "order_data[\"item\"] = order_data[\"item\"].str.replace(\",\", \" -\")"
   ]
  },
  {
   "cell_type": "markdown",
   "metadata": {},
   "source": [
    "#### Step 3.4. Convert order_date Column To Date from Object."
   ]
  },
  {
   "cell_type": "markdown",
   "metadata": {},
   "source": [
    "Check the order_date datatype before converting it and what it currently looks like (yyyy/mm/dd):"
   ]
  },
  {
   "cell_type": "code",
   "execution_count": 14,
   "metadata": {},
   "outputs": [
    {
     "name": "stdout",
     "output_type": "stream",
     "text": [
      "order_date Data Type (Before Conversion): object\n",
      "order_date (Before Conversion):\n",
      "0    2022/05/31\n",
      "1    2022/06/14\n",
      "2    2021/08/25\n",
      "3    2021/09/01\n",
      "4    2021/08/23\n",
      "Name: order_date, dtype: object\n"
     ]
    }
   ],
   "source": [
    "print(f'order_date Data Type (Before Conversion): {order_data[\"order_date\"].dtype}')\n",
    "print(f'order_date (Before Conversion):\\n{order_data[\"order_date\"].head(n = 5)}')"
   ]
  },
  {
   "cell_type": "markdown",
   "metadata": {},
   "source": [
    "Now, perform the conversion to a datetime datatype that is more usable for Pandas:"
   ]
  },
  {
   "cell_type": "code",
   "execution_count": 15,
   "metadata": {},
   "outputs": [],
   "source": [
    "order_data[\"order_date\"] = pd.to_datetime(order_data[\"order_date\"], \n",
    "                                          format = \"%Y-%m-%d\", \n",
    "                                          utc = False)"
   ]
  },
  {
   "cell_type": "markdown",
   "metadata": {},
   "source": [
    "Check the order_date datatype after converting it and what it now looks like (yyyy-mm-dd):"
   ]
  },
  {
   "cell_type": "code",
   "execution_count": 16,
   "metadata": {},
   "outputs": [
    {
     "name": "stdout",
     "output_type": "stream",
     "text": [
      "\n",
      "order_date Data Type (After Conversion): datetime64[ns]\n",
      "order_date (After Conversion):\n",
      "0   2022-05-31\n",
      "1   2022-06-14\n",
      "2   2021-08-25\n",
      "3   2021-09-01\n",
      "4   2021-08-23\n",
      "Name: order_date, dtype: datetime64[ns]\n"
     ]
    }
   ],
   "source": [
    "print(f'\\norder_date Data Type (After Conversion): {order_data[\"order_date\"].dtype}')\n",
    "print(f'order_date (After Conversion):\\n{order_data[\"order_date\"].head(n = 5)}')"
   ]
  },
  {
   "cell_type": "markdown",
   "metadata": {},
   "source": [
    "#### Step 3.5. Convert item_qty Column To Integer from Float."
   ]
  },
  {
   "cell_type": "markdown",
   "metadata": {},
   "source": [
    "Check the item_qty datatype before converting it and what it currently looks like (1.0 for example):"
   ]
  },
  {
   "cell_type": "code",
   "execution_count": 17,
   "metadata": {},
   "outputs": [
    {
     "name": "stdout",
     "output_type": "stream",
     "text": [
      "item_qty Data Type (Before Conversion): float64\n",
      "item_qty (Before Conversion):\n",
      "0    1.0\n",
      "1    5.0\n",
      "2    5.0\n",
      "3    5.0\n",
      "4    1.0\n",
      "Name: item_qty, dtype: float64\n"
     ]
    }
   ],
   "source": [
    "print(f'item_qty Data Type (Before Conversion): {order_data[\"item_qty\"].dtype}')\n",
    "print(f'item_qty (Before Conversion):\\n{order_data[\"item_qty\"].head(n = 5)}')"
   ]
  },
  {
   "cell_type": "markdown",
   "metadata": {},
   "source": [
    "Now, perform the conversion to an integer datatype:"
   ]
  },
  {
   "cell_type": "code",
   "execution_count": 18,
   "metadata": {},
   "outputs": [],
   "source": [
    "order_data[\"item_qty\"] = order_data[\"item_qty\"].convert_dtypes(convert_integer=True)"
   ]
  },
  {
   "cell_type": "markdown",
   "metadata": {},
   "source": [
    "Check the item_qty datatype after converting it and what it now looks like (1 for example):"
   ]
  },
  {
   "cell_type": "code",
   "execution_count": 19,
   "metadata": {},
   "outputs": [
    {
     "name": "stdout",
     "output_type": "stream",
     "text": [
      "\n",
      "item_qty Data Type (After Conversion): Int64\n",
      "item_qty (After Conversion:\n",
      "0    1\n",
      "1    5\n",
      "2    5\n",
      "3    5\n",
      "4    1\n",
      "Name: item_qty, dtype: Int64\n"
     ]
    }
   ],
   "source": [
    "print(f'\\nitem_qty Data Type (After Conversion): {order_data[\"item_qty\"].dtype}')\n",
    "print(f'item_qty (After Conversion:\\n{order_data[\"item_qty\"].head(n = 5)}')"
   ]
  },
  {
   "cell_type": "markdown",
   "metadata": {},
   "source": [
    "#### Step 3.6. Round price_per_unit to Two Decimal Places."
   ]
  },
  {
   "cell_type": "markdown",
   "metadata": {},
   "source": [
    "Check the price_per_unit before rounding it (up or down) and what it currently looks like (1.234 for example):"
   ]
  },
  {
   "cell_type": "code",
   "execution_count": 20,
   "metadata": {},
   "outputs": [
    {
     "name": "stdout",
     "output_type": "stream",
     "text": [
      "price_per_unit Data Type (Before Rounding): float64\n",
      "price_per_unit (Before Rounding):\n",
      "0    290.921\n",
      "1    369.391\n",
      "2    496.848\n",
      "3    129.945\n",
      "4    361.578\n",
      "Name: price_per_unit, dtype: float64\n"
     ]
    }
   ],
   "source": [
    "print(f'price_per_unit Data Type (Before Rounding): {order_data[\"price_per_unit\"].dtype}')\n",
    "print(f'price_per_unit (Before Rounding):\\n{order_data[\"price_per_unit\"].head(n = 5)}')"
   ]
  },
  {
   "cell_type": "markdown",
   "metadata": {},
   "source": [
    "Next, perform the rounding to two decimal places:"
   ]
  },
  {
   "cell_type": "code",
   "execution_count": 21,
   "metadata": {},
   "outputs": [],
   "source": [
    "order_data[\"price_per_unit\"] = order_data[\"price_per_unit\"].round(decimals=2)"
   ]
  },
  {
   "cell_type": "markdown",
   "metadata": {},
   "source": [
    "Lastly, check the price_per_unit after rounding it (up or down) and what it now looks like (1.23 for example):"
   ]
  },
  {
   "cell_type": "code",
   "execution_count": 22,
   "metadata": {},
   "outputs": [
    {
     "name": "stdout",
     "output_type": "stream",
     "text": [
      "\n",
      "price_per_unit Data Type (After Rounding): float64\n",
      "price_per_unit (After rounding):\n",
      "0    290.92\n",
      "1    369.39\n",
      "2    496.85\n",
      "3    129.94\n",
      "4    361.58\n",
      "Name: price_per_unit, dtype: float64\n"
     ]
    }
   ],
   "source": [
    "print(f'\\nprice_per_unit Data Type (After Rounding): {order_data[\"price_per_unit\"].dtype}')\n",
    "print(f'price_per_unit (After rounding):\\n{order_data[\"price_per_unit\"].head(n = 5)}')"
   ]
  },
  {
   "cell_type": "markdown",
   "metadata": {},
   "source": [
    "#### Step 3.7. Remove Lines With NaN Values (Where Required)."
   ]
  },
  {
   "cell_type": "markdown",
   "metadata": {},
   "source": [
    "Before removing any rows with NaN values, place those rows into a separate Pandas DataFrame so that it can be exported later on, mostly for reference or perhaps it could be used for other purposes, should they arise:"
   ]
  },
  {
   "cell_type": "code",
   "execution_count": 23,
   "metadata": {},
   "outputs": [],
   "source": [
    "order_data_removed = order_data[order_data.isna().any(axis = 1)]"
   ]
  },
  {
   "cell_type": "markdown",
   "metadata": {},
   "source": [
    "Next, show the first five rows of the order_data_removed Pandas DataFrame:"
   ]
  },
  {
   "cell_type": "code",
   "execution_count": 24,
   "metadata": {},
   "outputs": [
    {
     "data": {
      "text/html": [
       "<div>\n",
       "<style scoped>\n",
       "    .dataframe tbody tr th:only-of-type {\n",
       "        vertical-align: middle;\n",
       "    }\n",
       "\n",
       "    .dataframe tbody tr th {\n",
       "        vertical-align: top;\n",
       "    }\n",
       "\n",
       "    .dataframe thead th {\n",
       "        text-align: right;\n",
       "    }\n",
       "</style>\n",
       "<table border=\"1\" class=\"dataframe\">\n",
       "  <thead>\n",
       "    <tr style=\"text-align: right;\">\n",
       "      <th></th>\n",
       "      <th>order_id</th>\n",
       "      <th>order_date</th>\n",
       "      <th>customer_name</th>\n",
       "      <th>item_vendor_name</th>\n",
       "      <th>item</th>\n",
       "      <th>item_qty</th>\n",
       "      <th>price_per_unit</th>\n",
       "      <th>price_currency</th>\n",
       "    </tr>\n",
       "  </thead>\n",
       "  <tbody>\n",
       "    <tr>\n",
       "      <th>5</th>\n",
       "      <td>6</td>\n",
       "      <td>2022-04-18</td>\n",
       "      <td>Jane Bloggs</td>\n",
       "      <td>Blogpad</td>\n",
       "      <td>NaN</td>\n",
       "      <td>5</td>\n",
       "      <td>73.05</td>\n",
       "      <td>GBP</td>\n",
       "    </tr>\n",
       "    <tr>\n",
       "      <th>15</th>\n",
       "      <td>16</td>\n",
       "      <td>2022-06-07</td>\n",
       "      <td>Jane Bloggs</td>\n",
       "      <td>Skiptube</td>\n",
       "      <td>NaN</td>\n",
       "      <td>1</td>\n",
       "      <td>402.81</td>\n",
       "      <td>GBP</td>\n",
       "    </tr>\n",
       "    <tr>\n",
       "      <th>19</th>\n",
       "      <td>20</td>\n",
       "      <td>2021-11-19</td>\n",
       "      <td>Jane Bloggs</td>\n",
       "      <td>Chatterpoint</td>\n",
       "      <td>NaN</td>\n",
       "      <td>4</td>\n",
       "      <td>NaN</td>\n",
       "      <td>GBP</td>\n",
       "    </tr>\n",
       "    <tr>\n",
       "      <th>32</th>\n",
       "      <td>33</td>\n",
       "      <td>2021-11-26</td>\n",
       "      <td>Jane Bloggs</td>\n",
       "      <td>Tagpad</td>\n",
       "      <td>Chutney Sauce - Mango</td>\n",
       "      <td>3</td>\n",
       "      <td>NaN</td>\n",
       "      <td>GBP</td>\n",
       "    </tr>\n",
       "    <tr>\n",
       "      <th>35</th>\n",
       "      <td>36</td>\n",
       "      <td>2022-06-25</td>\n",
       "      <td>Jane Bloggs</td>\n",
       "      <td>Gabtype</td>\n",
       "      <td>NaN</td>\n",
       "      <td>5</td>\n",
       "      <td>374.41</td>\n",
       "      <td>GBP</td>\n",
       "    </tr>\n",
       "  </tbody>\n",
       "</table>\n",
       "</div>"
      ],
      "text/plain": [
       "    order_id order_date customer_name item_vendor_name                   item  \\\n",
       "5          6 2022-04-18   Jane Bloggs          Blogpad                    NaN   \n",
       "15        16 2022-06-07   Jane Bloggs         Skiptube                    NaN   \n",
       "19        20 2021-11-19   Jane Bloggs     Chatterpoint                    NaN   \n",
       "32        33 2021-11-26   Jane Bloggs           Tagpad  Chutney Sauce - Mango   \n",
       "35        36 2022-06-25   Jane Bloggs          Gabtype                    NaN   \n",
       "\n",
       "    item_qty  price_per_unit price_currency  \n",
       "5          5           73.05            GBP  \n",
       "15         1          402.81            GBP  \n",
       "19         4             NaN            GBP  \n",
       "32         3             NaN            GBP  \n",
       "35         5          374.41            GBP  "
      ]
     },
     "execution_count": 24,
     "metadata": {},
     "output_type": "execute_result"
    }
   ],
   "source": [
    "order_data_removed.head(n = 5)"
   ]
  },
  {
   "cell_type": "markdown",
   "metadata": {},
   "source": [
    "Next, check for total NaN entries in the order_data_removed Pandas DataFrame:"
   ]
  },
  {
   "cell_type": "code",
   "execution_count": 25,
   "metadata": {},
   "outputs": [
    {
     "data": {
      "text/plain": [
       "order_id              0\n",
       "order_date           17\n",
       "customer_name         0\n",
       "item_vendor_name      0\n",
       "item                108\n",
       "item_qty             73\n",
       "price_per_unit       56\n",
       "price_currency        0\n",
       "dtype: int64"
      ]
     },
     "execution_count": 25,
     "metadata": {},
     "output_type": "execute_result"
    }
   ],
   "source": [
    "order_data.isna().sum()"
   ]
  },
  {
   "cell_type": "markdown",
   "metadata": {},
   "source": [
    "Lastly, as the clean-up criteria for NaN values has been completed, any remaining NaN values in the order_data Pandas DataFrame can now be removed:"
   ]
  },
  {
   "cell_type": "code",
   "execution_count": 26,
   "metadata": {},
   "outputs": [],
   "source": [
    "order_data.dropna(inplace = True)"
   ]
  },
  {
   "cell_type": "markdown",
   "metadata": {},
   "source": [
    "Check for any remaining NaN values. There should be none:"
   ]
  },
  {
   "cell_type": "code",
   "execution_count": 27,
   "metadata": {},
   "outputs": [
    {
     "data": {
      "text/plain": [
       "order_id            0\n",
       "order_date          0\n",
       "customer_name       0\n",
       "item_vendor_name    0\n",
       "item                0\n",
       "item_qty            0\n",
       "price_per_unit      0\n",
       "price_currency      0\n",
       "dtype: int64"
      ]
     },
     "execution_count": 27,
     "metadata": {},
     "output_type": "execute_result"
    }
   ],
   "source": [
    "order_data.isna().sum()"
   ]
  },
  {
   "cell_type": "markdown",
   "metadata": {},
   "source": [
    "Check the total number of rows in the order_data Pandas DataFrame:"
   ]
  },
  {
   "cell_type": "code",
   "execution_count": 28,
   "metadata": {},
   "outputs": [
    {
     "name": "stdout",
     "output_type": "stream",
     "text": [
      "Total Rows (After NaN Removal): 768\n"
     ]
    }
   ],
   "source": [
    "print(f\"Total Rows (After NaN Removal): {len(order_data)}\")"
   ]
  },
  {
   "cell_type": "markdown",
   "metadata": {},
   "source": [
    "#### Step 3.8. Reset the order_data Index."
   ]
  },
  {
   "cell_type": "markdown",
   "metadata": {},
   "source": [
    "As rows have been removed from the order_data Pandas DataFrame, the index will need to be reset, otherwise it will still have the old index in there that started at 0 and ended at 999 (1000 rows).\n",
    "\n",
    "Note: By default, reset_index will create a new index and place the old index into a new column. To stop the old index being created in a new column, use drop = True."
   ]
  },
  {
   "cell_type": "code",
   "execution_count": 29,
   "metadata": {},
   "outputs": [],
   "source": [
    "order_data.reset_index(inplace = True, \n",
    "                       drop = True)"
   ]
  },
  {
   "cell_type": "markdown",
   "metadata": {},
   "source": [
    "Show the last five lines of the order_data Pandas DataFrame:"
   ]
  },
  {
   "cell_type": "code",
   "execution_count": 30,
   "metadata": {},
   "outputs": [
    {
     "data": {
      "text/html": [
       "<div>\n",
       "<style scoped>\n",
       "    .dataframe tbody tr th:only-of-type {\n",
       "        vertical-align: middle;\n",
       "    }\n",
       "\n",
       "    .dataframe tbody tr th {\n",
       "        vertical-align: top;\n",
       "    }\n",
       "\n",
       "    .dataframe thead th {\n",
       "        text-align: right;\n",
       "    }\n",
       "</style>\n",
       "<table border=\"1\" class=\"dataframe\">\n",
       "  <thead>\n",
       "    <tr style=\"text-align: right;\">\n",
       "      <th></th>\n",
       "      <th>order_id</th>\n",
       "      <th>order_date</th>\n",
       "      <th>customer_name</th>\n",
       "      <th>item_vendor_name</th>\n",
       "      <th>item</th>\n",
       "      <th>item_qty</th>\n",
       "      <th>price_per_unit</th>\n",
       "      <th>price_currency</th>\n",
       "    </tr>\n",
       "  </thead>\n",
       "  <tbody>\n",
       "    <tr>\n",
       "      <th>987</th>\n",
       "      <td>988</td>\n",
       "      <td>NaT</td>\n",
       "      <td>Jane Bloggs</td>\n",
       "      <td>Kanoodle</td>\n",
       "      <td>NaN</td>\n",
       "      <td>5</td>\n",
       "      <td>189.88</td>\n",
       "      <td>GBP</td>\n",
       "    </tr>\n",
       "    <tr>\n",
       "      <th>988</th>\n",
       "      <td>989</td>\n",
       "      <td>2021-11-17</td>\n",
       "      <td>Jane Bloggs</td>\n",
       "      <td>Dabvine</td>\n",
       "      <td>Duck - Breast</td>\n",
       "      <td>&lt;NA&gt;</td>\n",
       "      <td>37.22</td>\n",
       "      <td>GBP</td>\n",
       "    </tr>\n",
       "    <tr>\n",
       "      <th>991</th>\n",
       "      <td>992</td>\n",
       "      <td>2021-10-18</td>\n",
       "      <td>Jane Bloggs</td>\n",
       "      <td>Photobug</td>\n",
       "      <td>Silicone Parch. 16.3x24.3</td>\n",
       "      <td>&lt;NA&gt;</td>\n",
       "      <td>497.56</td>\n",
       "      <td>GBP</td>\n",
       "    </tr>\n",
       "    <tr>\n",
       "      <th>993</th>\n",
       "      <td>994</td>\n",
       "      <td>2021-12-23</td>\n",
       "      <td>Jane Bloggs</td>\n",
       "      <td>Wikizz</td>\n",
       "      <td>Potatoes - Parissienne</td>\n",
       "      <td>&lt;NA&gt;</td>\n",
       "      <td>389.48</td>\n",
       "      <td>GBP</td>\n",
       "    </tr>\n",
       "    <tr>\n",
       "      <th>994</th>\n",
       "      <td>995</td>\n",
       "      <td>2022-02-25</td>\n",
       "      <td>Jane Bloggs</td>\n",
       "      <td>Jaxnation</td>\n",
       "      <td>NaN</td>\n",
       "      <td>3</td>\n",
       "      <td>81.60</td>\n",
       "      <td>GBP</td>\n",
       "    </tr>\n",
       "  </tbody>\n",
       "</table>\n",
       "</div>"
      ],
      "text/plain": [
       "     order_id order_date customer_name item_vendor_name  \\\n",
       "987       988        NaT   Jane Bloggs         Kanoodle   \n",
       "988       989 2021-11-17   Jane Bloggs          Dabvine   \n",
       "991       992 2021-10-18   Jane Bloggs         Photobug   \n",
       "993       994 2021-12-23   Jane Bloggs           Wikizz   \n",
       "994       995 2022-02-25   Jane Bloggs        Jaxnation   \n",
       "\n",
       "                          item  item_qty  price_per_unit price_currency  \n",
       "987                        NaN         5          189.88            GBP  \n",
       "988              Duck - Breast      <NA>           37.22            GBP  \n",
       "991  Silicone Parch. 16.3x24.3      <NA>          497.56            GBP  \n",
       "993     Potatoes - Parissienne      <NA>          389.48            GBP  \n",
       "994                        NaN         3           81.60            GBP  "
      ]
     },
     "execution_count": 30,
     "metadata": {},
     "output_type": "execute_result"
    }
   ],
   "source": [
    "order_data_removed.tail(n = 5)"
   ]
  },
  {
   "cell_type": "markdown",
   "metadata": {},
   "source": [
    "#### Step 3.9. Review The Current State of the order_data Pandas DataFrame."
   ]
  },
  {
   "cell_type": "markdown",
   "metadata": {},
   "source": [
    "Show first five rows to see what the data looks like:"
   ]
  },
  {
   "cell_type": "code",
   "execution_count": 31,
   "metadata": {},
   "outputs": [
    {
     "data": {
      "text/html": [
       "<div>\n",
       "<style scoped>\n",
       "    .dataframe tbody tr th:only-of-type {\n",
       "        vertical-align: middle;\n",
       "    }\n",
       "\n",
       "    .dataframe tbody tr th {\n",
       "        vertical-align: top;\n",
       "    }\n",
       "\n",
       "    .dataframe thead th {\n",
       "        text-align: right;\n",
       "    }\n",
       "</style>\n",
       "<table border=\"1\" class=\"dataframe\">\n",
       "  <thead>\n",
       "    <tr style=\"text-align: right;\">\n",
       "      <th></th>\n",
       "      <th>order_id</th>\n",
       "      <th>order_date</th>\n",
       "      <th>customer_name</th>\n",
       "      <th>item_vendor_name</th>\n",
       "      <th>item</th>\n",
       "      <th>item_qty</th>\n",
       "      <th>price_per_unit</th>\n",
       "      <th>price_currency</th>\n",
       "    </tr>\n",
       "  </thead>\n",
       "  <tbody>\n",
       "    <tr>\n",
       "      <th>0</th>\n",
       "      <td>1</td>\n",
       "      <td>2022-05-31</td>\n",
       "      <td>Jane Bloggs</td>\n",
       "      <td>Wikizz</td>\n",
       "      <td>Lid - 3oz Med Rec</td>\n",
       "      <td>1</td>\n",
       "      <td>290.92</td>\n",
       "      <td>GBP</td>\n",
       "    </tr>\n",
       "    <tr>\n",
       "      <th>1</th>\n",
       "      <td>2</td>\n",
       "      <td>2022-06-14</td>\n",
       "      <td>Jane Bloggs</td>\n",
       "      <td>Yodoo</td>\n",
       "      <td>Beans - French</td>\n",
       "      <td>5</td>\n",
       "      <td>369.39</td>\n",
       "      <td>GBP</td>\n",
       "    </tr>\n",
       "    <tr>\n",
       "      <th>2</th>\n",
       "      <td>3</td>\n",
       "      <td>2021-08-25</td>\n",
       "      <td>Jane Bloggs</td>\n",
       "      <td>Zoonoodle</td>\n",
       "      <td>Maple Syrup</td>\n",
       "      <td>5</td>\n",
       "      <td>496.85</td>\n",
       "      <td>GBP</td>\n",
       "    </tr>\n",
       "    <tr>\n",
       "      <th>3</th>\n",
       "      <td>4</td>\n",
       "      <td>2021-09-01</td>\n",
       "      <td>Jane Bloggs</td>\n",
       "      <td>Skibox</td>\n",
       "      <td>Strawberries - California</td>\n",
       "      <td>5</td>\n",
       "      <td>129.94</td>\n",
       "      <td>GBP</td>\n",
       "    </tr>\n",
       "    <tr>\n",
       "      <th>4</th>\n",
       "      <td>5</td>\n",
       "      <td>2021-08-23</td>\n",
       "      <td>Jane Bloggs</td>\n",
       "      <td>Teklist</td>\n",
       "      <td>Lamb - Racks - Frenched</td>\n",
       "      <td>1</td>\n",
       "      <td>361.58</td>\n",
       "      <td>GBP</td>\n",
       "    </tr>\n",
       "  </tbody>\n",
       "</table>\n",
       "</div>"
      ],
      "text/plain": [
       "   order_id order_date customer_name item_vendor_name  \\\n",
       "0         1 2022-05-31   Jane Bloggs           Wikizz   \n",
       "1         2 2022-06-14   Jane Bloggs            Yodoo   \n",
       "2         3 2021-08-25   Jane Bloggs        Zoonoodle   \n",
       "3         4 2021-09-01   Jane Bloggs           Skibox   \n",
       "4         5 2021-08-23   Jane Bloggs          Teklist   \n",
       "\n",
       "                        item  item_qty  price_per_unit price_currency  \n",
       "0          Lid - 3oz Med Rec         1          290.92            GBP  \n",
       "1             Beans - French         5          369.39            GBP  \n",
       "2                Maple Syrup         5          496.85            GBP  \n",
       "3  Strawberries - California         5          129.94            GBP  \n",
       "4    Lamb - Racks - Frenched         1          361.58            GBP  "
      ]
     },
     "execution_count": 31,
     "metadata": {},
     "output_type": "execute_result"
    }
   ],
   "source": [
    "order_data.head(n = 5)"
   ]
  },
  {
   "cell_type": "markdown",
   "metadata": {},
   "source": [
    "Next, check that all of the datatypes are correct:"
   ]
  },
  {
   "cell_type": "code",
   "execution_count": 32,
   "metadata": {},
   "outputs": [
    {
     "name": "stdout",
     "output_type": "stream",
     "text": [
      "<class 'pandas.core.frame.DataFrame'>\n",
      "RangeIndex: 768 entries, 0 to 767\n",
      "Data columns (total 8 columns):\n",
      " #   Column            Non-Null Count  Dtype         \n",
      "---  ------            --------------  -----         \n",
      " 0   order_id          768 non-null    int64         \n",
      " 1   order_date        768 non-null    datetime64[ns]\n",
      " 2   customer_name     768 non-null    object        \n",
      " 3   item_vendor_name  768 non-null    object        \n",
      " 4   item              768 non-null    object        \n",
      " 5   item_qty          768 non-null    Int64         \n",
      " 6   price_per_unit    768 non-null    float64       \n",
      " 7   price_currency    768 non-null    object        \n",
      "dtypes: Int64(1), datetime64[ns](1), float64(1), int64(1), object(4)\n",
      "memory usage: 48.9+ KB\n"
     ]
    }
   ],
   "source": [
    "order_data.info()"
   ]
  },
  {
   "cell_type": "markdown",
   "metadata": {},
   "source": [
    "### Step 4. Create an Order Total Column."
   ]
  },
  {
   "cell_type": "markdown",
   "metadata": {},
   "source": [
    "The last step to be performed before exporting the DataFrames to Excel is to create a column in order_data Pandas DataFrame that will have the total for each order / row."
   ]
  },
  {
   "cell_type": "markdown",
   "metadata": {},
   "source": [
    "There are a few ways to perform this:\n",
    "\n",
    "* Create two NumPy arrays, one for item_qty and another for the price_per_unit.\n",
    "  * Multiply the two NumPy arrays together using np.multiply.\n",
    "* Multiply the item_qty by the price_per_unit directly from the Pandas DataFrame using NumPy.\n",
    "* Multiply the item_qty by the price_per_unit directly from the Pandas DataFrame.\n",
    "  \n",
    "Why would you look at using NumPy to do this when you can just directly do the multiplication from the Pandas DataFrame. One word: SPEEEEEEEEEEEEEED!\n",
    "\n",
    "Let's take a look (Note: Look at the output times, not the times with the green tick):"
   ]
  },
  {
   "cell_type": "markdown",
   "metadata": {},
   "source": [
    "#### Step 4.1. The Full NumPy Method."
   ]
  },
  {
   "cell_type": "markdown",
   "metadata": {},
   "source": [
    "For this method, we shall create two one-dimensional NumPy arrays that take the item_qty and price_per_unit values from the order_data DataFrame. From there, we will then create a new variable called total_price_array that will multiply the two arrays values together by using element-wise matching (qty_array index 0 to price_array 0, 1 to 1, 2 to 2 etc. matching for both arrays)."
   ]
  },
  {
   "cell_type": "markdown",
   "metadata": {},
   "source": [
    "First, create a new NumPy array called qty_array from the item_qty column in the order_data Pandas DataFrame:"
   ]
  },
  {
   "cell_type": "code",
   "execution_count": 33,
   "metadata": {},
   "outputs": [
    {
     "name": "stdout",
     "output_type": "stream",
     "text": [
      "CPU times: user 94 µs, sys: 13 µs, total: 107 µs\n",
      "Wall time: 103 µs\n"
     ]
    }
   ],
   "source": [
    "%time qty_array = np.array(order_data[\"item_qty\"])"
   ]
  },
  {
   "cell_type": "markdown",
   "metadata": {},
   "source": [
    "Next, create a new NumPy array called price_array from the price_per_unit column in the order_data Pandas DataFrame:"
   ]
  },
  {
   "cell_type": "code",
   "execution_count": 34,
   "metadata": {},
   "outputs": [
    {
     "name": "stdout",
     "output_type": "stream",
     "text": [
      "CPU times: user 48 µs, sys: 4 µs, total: 52 µs\n",
      "Wall time: 53.9 µs\n"
     ]
    }
   ],
   "source": [
    "%time price_array = np.array(order_data[\"price_per_unit\"])"
   ]
  },
  {
   "cell_type": "markdown",
   "metadata": {},
   "source": [
    "Perform the multiplication of the qty_array by the price_array and create the result as a new NumPy array called total_price_array:"
   ]
  },
  {
   "cell_type": "code",
   "execution_count": 35,
   "metadata": {},
   "outputs": [
    {
     "name": "stdout",
     "output_type": "stream",
     "text": [
      "CPU times: user 81 µs, sys: 26 µs, total: 107 µs\n",
      "Wall time: 101 µs\n"
     ]
    }
   ],
   "source": [
    "%time total_price_array = np.multiply(qty_array, price_array)"
   ]
  },
  {
   "cell_type": "markdown",
   "metadata": {},
   "source": [
    "#### Step 4.2. Use NumPy Multiplication with Pandas DataFrame as the Source."
   ]
  },
  {
   "cell_type": "markdown",
   "metadata": {},
   "source": [
    "Using NumPy, perform the multiplication of the item_qty column by the price_per_unit column directly from the order_data Panda DataFrame:"
   ]
  },
  {
   "cell_type": "code",
   "execution_count": 36,
   "metadata": {},
   "outputs": [
    {
     "name": "stdout",
     "output_type": "stream",
     "text": [
      "CPU times: user 473 µs, sys: 56 µs, total: 529 µs\n",
      "Wall time: 508 µs\n"
     ]
    }
   ],
   "source": [
    "%time total_price_from_df = np.multiply(order_data[\"item_qty\"], order_data[\"price_per_unit\"])"
   ]
  },
  {
   "cell_type": "markdown",
   "metadata": {},
   "source": [
    "#### Step 4.3. The Full Pandas Multiplication Method."
   ]
  },
  {
   "cell_type": "markdown",
   "metadata": {},
   "source": [
    "Perform the multiplication of the item_qty column by the price_per_unit column directly from the order_data Panda DataFrame:"
   ]
  },
  {
   "cell_type": "code",
   "execution_count": 37,
   "metadata": {},
   "outputs": [
    {
     "name": "stdout",
     "output_type": "stream",
     "text": [
      "CPU times: user 273 µs, sys: 23 µs, total: 296 µs\n",
      "Wall time: 281 µs\n"
     ]
    }
   ],
   "source": [
    "%time total_price_from_df = order_data[\"item_qty\"] * order_data[\"price_per_unit\"]"
   ]
  },
  {
   "cell_type": "markdown",
   "metadata": {},
   "source": [
    "#### Step 4.4. Add the total_price_array to the order_data DataFrame."
   ]
  },
  {
   "cell_type": "markdown",
   "metadata": {},
   "source": [
    "The end result of the above methods is usually NumPy, even though there is a little more code, will perform the quickest vs. working directly with a Pandas DataFrame.\n",
    "\n",
    "This is a small dataset that we used but if you had hundreds of thousands of rows, or even millions, the results would be much more noticeable."
   ]
  },
  {
   "cell_type": "markdown",
   "metadata": {},
   "source": [
    "The final step is to take the results held in the total_price_array and add them to the order_data Pandas DataFrame as a new column called order_total. \n",
    "\n",
    "Each entry in the array will be converted to a float as the datatype would otherwise be an object datatype."
   ]
  },
  {
   "cell_type": "code",
   "execution_count": 38,
   "metadata": {},
   "outputs": [
    {
     "data": {
      "text/html": [
       "<div>\n",
       "<style scoped>\n",
       "    .dataframe tbody tr th:only-of-type {\n",
       "        vertical-align: middle;\n",
       "    }\n",
       "\n",
       "    .dataframe tbody tr th {\n",
       "        vertical-align: top;\n",
       "    }\n",
       "\n",
       "    .dataframe thead th {\n",
       "        text-align: right;\n",
       "    }\n",
       "</style>\n",
       "<table border=\"1\" class=\"dataframe\">\n",
       "  <thead>\n",
       "    <tr style=\"text-align: right;\">\n",
       "      <th></th>\n",
       "      <th>order_id</th>\n",
       "      <th>order_date</th>\n",
       "      <th>customer_name</th>\n",
       "      <th>item_vendor_name</th>\n",
       "      <th>item</th>\n",
       "      <th>item_qty</th>\n",
       "      <th>price_per_unit</th>\n",
       "      <th>price_currency</th>\n",
       "      <th>order_total</th>\n",
       "    </tr>\n",
       "  </thead>\n",
       "  <tbody>\n",
       "    <tr>\n",
       "      <th>0</th>\n",
       "      <td>1</td>\n",
       "      <td>2022-05-31</td>\n",
       "      <td>Jane Bloggs</td>\n",
       "      <td>Wikizz</td>\n",
       "      <td>Lid - 3oz Med Rec</td>\n",
       "      <td>1</td>\n",
       "      <td>290.92</td>\n",
       "      <td>GBP</td>\n",
       "      <td>290.92</td>\n",
       "    </tr>\n",
       "    <tr>\n",
       "      <th>1</th>\n",
       "      <td>2</td>\n",
       "      <td>2022-06-14</td>\n",
       "      <td>Jane Bloggs</td>\n",
       "      <td>Yodoo</td>\n",
       "      <td>Beans - French</td>\n",
       "      <td>5</td>\n",
       "      <td>369.39</td>\n",
       "      <td>GBP</td>\n",
       "      <td>1846.95</td>\n",
       "    </tr>\n",
       "    <tr>\n",
       "      <th>2</th>\n",
       "      <td>3</td>\n",
       "      <td>2021-08-25</td>\n",
       "      <td>Jane Bloggs</td>\n",
       "      <td>Zoonoodle</td>\n",
       "      <td>Maple Syrup</td>\n",
       "      <td>5</td>\n",
       "      <td>496.85</td>\n",
       "      <td>GBP</td>\n",
       "      <td>2484.25</td>\n",
       "    </tr>\n",
       "    <tr>\n",
       "      <th>3</th>\n",
       "      <td>4</td>\n",
       "      <td>2021-09-01</td>\n",
       "      <td>Jane Bloggs</td>\n",
       "      <td>Skibox</td>\n",
       "      <td>Strawberries - California</td>\n",
       "      <td>5</td>\n",
       "      <td>129.94</td>\n",
       "      <td>GBP</td>\n",
       "      <td>649.70</td>\n",
       "    </tr>\n",
       "    <tr>\n",
       "      <th>4</th>\n",
       "      <td>5</td>\n",
       "      <td>2021-08-23</td>\n",
       "      <td>Jane Bloggs</td>\n",
       "      <td>Teklist</td>\n",
       "      <td>Lamb - Racks - Frenched</td>\n",
       "      <td>1</td>\n",
       "      <td>361.58</td>\n",
       "      <td>GBP</td>\n",
       "      <td>361.58</td>\n",
       "    </tr>\n",
       "  </tbody>\n",
       "</table>\n",
       "</div>"
      ],
      "text/plain": [
       "   order_id order_date customer_name item_vendor_name  \\\n",
       "0         1 2022-05-31   Jane Bloggs           Wikizz   \n",
       "1         2 2022-06-14   Jane Bloggs            Yodoo   \n",
       "2         3 2021-08-25   Jane Bloggs        Zoonoodle   \n",
       "3         4 2021-09-01   Jane Bloggs           Skibox   \n",
       "4         5 2021-08-23   Jane Bloggs          Teklist   \n",
       "\n",
       "                        item  item_qty  price_per_unit price_currency  \\\n",
       "0          Lid - 3oz Med Rec         1          290.92            GBP   \n",
       "1             Beans - French         5          369.39            GBP   \n",
       "2                Maple Syrup         5          496.85            GBP   \n",
       "3  Strawberries - California         5          129.94            GBP   \n",
       "4    Lamb - Racks - Frenched         1          361.58            GBP   \n",
       "\n",
       "   order_total  \n",
       "0       290.92  \n",
       "1      1846.95  \n",
       "2      2484.25  \n",
       "3       649.70  \n",
       "4       361.58  "
      ]
     },
     "execution_count": 38,
     "metadata": {},
     "output_type": "execute_result"
    }
   ],
   "source": [
    "order_data[\"order_total\"] = total_price_array.astype(\"float\")\n",
    "order_data.head(n = 5)"
   ]
  },
  {
   "cell_type": "markdown",
   "metadata": {},
   "source": [
    "Let's check the datatypes of each column in the order_data Pandas DataFrame. The one only one that should have changed is order_total and that should be a datatype of float64."
   ]
  },
  {
   "cell_type": "code",
   "execution_count": 39,
   "metadata": {},
   "outputs": [
    {
     "name": "stdout",
     "output_type": "stream",
     "text": [
      "<class 'pandas.core.frame.DataFrame'>\n",
      "RangeIndex: 768 entries, 0 to 767\n",
      "Data columns (total 9 columns):\n",
      " #   Column            Non-Null Count  Dtype         \n",
      "---  ------            --------------  -----         \n",
      " 0   order_id          768 non-null    int64         \n",
      " 1   order_date        768 non-null    datetime64[ns]\n",
      " 2   customer_name     768 non-null    object        \n",
      " 3   item_vendor_name  768 non-null    object        \n",
      " 4   item              768 non-null    object        \n",
      " 5   item_qty          768 non-null    Int64         \n",
      " 6   price_per_unit    768 non-null    float64       \n",
      " 7   price_currency    768 non-null    object        \n",
      " 8   order_total       768 non-null    float64       \n",
      "dtypes: Int64(1), datetime64[ns](1), float64(2), int64(1), object(4)\n",
      "memory usage: 54.9+ KB\n"
     ]
    }
   ],
   "source": [
    "order_data.info()"
   ]
  },
  {
   "cell_type": "markdown",
   "metadata": {},
   "source": [
    "Lastly, let's have a look at the first five rows in the order_data Pandas DataFrame to check that the order_total is showing correctly."
   ]
  },
  {
   "cell_type": "code",
   "execution_count": 40,
   "metadata": {},
   "outputs": [
    {
     "data": {
      "text/html": [
       "<div>\n",
       "<style scoped>\n",
       "    .dataframe tbody tr th:only-of-type {\n",
       "        vertical-align: middle;\n",
       "    }\n",
       "\n",
       "    .dataframe tbody tr th {\n",
       "        vertical-align: top;\n",
       "    }\n",
       "\n",
       "    .dataframe thead th {\n",
       "        text-align: right;\n",
       "    }\n",
       "</style>\n",
       "<table border=\"1\" class=\"dataframe\">\n",
       "  <thead>\n",
       "    <tr style=\"text-align: right;\">\n",
       "      <th></th>\n",
       "      <th>order_id</th>\n",
       "      <th>order_date</th>\n",
       "      <th>customer_name</th>\n",
       "      <th>item_vendor_name</th>\n",
       "      <th>item</th>\n",
       "      <th>item_qty</th>\n",
       "      <th>price_per_unit</th>\n",
       "      <th>price_currency</th>\n",
       "      <th>order_total</th>\n",
       "    </tr>\n",
       "  </thead>\n",
       "  <tbody>\n",
       "    <tr>\n",
       "      <th>0</th>\n",
       "      <td>1</td>\n",
       "      <td>2022-05-31</td>\n",
       "      <td>Jane Bloggs</td>\n",
       "      <td>Wikizz</td>\n",
       "      <td>Lid - 3oz Med Rec</td>\n",
       "      <td>1</td>\n",
       "      <td>290.92</td>\n",
       "      <td>GBP</td>\n",
       "      <td>290.92</td>\n",
       "    </tr>\n",
       "    <tr>\n",
       "      <th>1</th>\n",
       "      <td>2</td>\n",
       "      <td>2022-06-14</td>\n",
       "      <td>Jane Bloggs</td>\n",
       "      <td>Yodoo</td>\n",
       "      <td>Beans - French</td>\n",
       "      <td>5</td>\n",
       "      <td>369.39</td>\n",
       "      <td>GBP</td>\n",
       "      <td>1846.95</td>\n",
       "    </tr>\n",
       "    <tr>\n",
       "      <th>2</th>\n",
       "      <td>3</td>\n",
       "      <td>2021-08-25</td>\n",
       "      <td>Jane Bloggs</td>\n",
       "      <td>Zoonoodle</td>\n",
       "      <td>Maple Syrup</td>\n",
       "      <td>5</td>\n",
       "      <td>496.85</td>\n",
       "      <td>GBP</td>\n",
       "      <td>2484.25</td>\n",
       "    </tr>\n",
       "    <tr>\n",
       "      <th>3</th>\n",
       "      <td>4</td>\n",
       "      <td>2021-09-01</td>\n",
       "      <td>Jane Bloggs</td>\n",
       "      <td>Skibox</td>\n",
       "      <td>Strawberries - California</td>\n",
       "      <td>5</td>\n",
       "      <td>129.94</td>\n",
       "      <td>GBP</td>\n",
       "      <td>649.70</td>\n",
       "    </tr>\n",
       "    <tr>\n",
       "      <th>4</th>\n",
       "      <td>5</td>\n",
       "      <td>2021-08-23</td>\n",
       "      <td>Jane Bloggs</td>\n",
       "      <td>Teklist</td>\n",
       "      <td>Lamb - Racks - Frenched</td>\n",
       "      <td>1</td>\n",
       "      <td>361.58</td>\n",
       "      <td>GBP</td>\n",
       "      <td>361.58</td>\n",
       "    </tr>\n",
       "  </tbody>\n",
       "</table>\n",
       "</div>"
      ],
      "text/plain": [
       "   order_id order_date customer_name item_vendor_name  \\\n",
       "0         1 2022-05-31   Jane Bloggs           Wikizz   \n",
       "1         2 2022-06-14   Jane Bloggs            Yodoo   \n",
       "2         3 2021-08-25   Jane Bloggs        Zoonoodle   \n",
       "3         4 2021-09-01   Jane Bloggs           Skibox   \n",
       "4         5 2021-08-23   Jane Bloggs          Teklist   \n",
       "\n",
       "                        item  item_qty  price_per_unit price_currency  \\\n",
       "0          Lid - 3oz Med Rec         1          290.92            GBP   \n",
       "1             Beans - French         5          369.39            GBP   \n",
       "2                Maple Syrup         5          496.85            GBP   \n",
       "3  Strawberries - California         5          129.94            GBP   \n",
       "4    Lamb - Racks - Frenched         1          361.58            GBP   \n",
       "\n",
       "   order_total  \n",
       "0       290.92  \n",
       "1      1846.95  \n",
       "2      2484.25  \n",
       "3       649.70  \n",
       "4       361.58  "
      ]
     },
     "execution_count": 40,
     "metadata": {},
     "output_type": "execute_result"
    }
   ],
   "source": [
    "order_data.head(n = 5)"
   ]
  },
  {
   "cell_type": "markdown",
   "metadata": {},
   "source": [
    "### Step 5. Export The Two DataFrames To Excel."
   ]
  },
  {
   "cell_type": "markdown",
   "metadata": {},
   "source": [
    "The final step will be to export the two DataFrames (order_data and order_data_removed) to an Excel workbook. Each DataFrame will be on its own worksheet."
   ]
  },
  {
   "cell_type": "code",
   "execution_count": 45,
   "metadata": {},
   "outputs": [],
   "source": [
    "with pd.ExcelWriter(path = \"order_data_totals.xlsx\", \n",
    "                    engine = \"xlsxwriter\",\n",
    "                    date_format = \"YYYY-MM-DD\",\n",
    "                    datetime_format = \"YYYY-MM-DD\") as writer:\n",
    "    \n",
    "    order_data.to_excel(writer, \n",
    "                        index = False,\n",
    "                        sheet_name = \"order_data\")\n",
    "    \n",
    "    order_data_removed.to_excel(writer, \n",
    "                        index = False,\n",
    "                        sheet_name = \"order_data_removed\")"
   ]
  },
  {
   "cell_type": "markdown",
   "metadata": {},
   "source": [
    "You should now see the Excel file in the same folder where you ran this notebook from."
   ]
  }
 ],
 "metadata": {
  "kernelspec": {
   "display_name": "Python 3.10.4 (conda)",
   "language": "python",
   "name": "python3"
  },
  "language_info": {
   "codemirror_mode": {
    "name": "ipython",
    "version": 3
   },
   "file_extension": ".py",
   "mimetype": "text/x-python",
   "name": "python",
   "nbconvert_exporter": "python",
   "pygments_lexer": "ipython3",
   "version": "3.10.4"
  },
  "orig_nbformat": 4,
  "vscode": {
   "interpreter": {
    "hash": "4d75270ac13a007e0f8cbe0ccbc8bce419b323befac3f7ad9a0bd772cb850a7e"
   }
  }
 },
 "nbformat": 4,
 "nbformat_minor": 2
}
