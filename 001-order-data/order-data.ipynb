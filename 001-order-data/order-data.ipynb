{
 "cells": [
  {
   "cell_type": "markdown",
   "metadata": {},
   "source": [
    "# Order Data Analysis."
   ]
  },
  {
   "cell_type": "markdown",
   "metadata": {},
   "source": [
    "## Project Goals and Requirements."
   ]
  },
  {
   "cell_type": "markdown",
   "metadata": {},
   "source": [
    "This project will have a few goals that must be met by the end. These goals are:\n",
    "* Clean up the data, specifically any missing data on any rows.\n",
    "* Create a total column that multiplies the price by the quantity ordered.\n",
    "* Create a number of charts (what they are is to be determined).\n",
    "    * Top 5 items that are frequently purchased\n",
    "* Export the results to and Excel workbook / worksheet."
   ]
  },
  {
   "cell_type": "markdown",
   "metadata": {},
   "source": [
    "## Project Solution."
   ]
  },
  {
   "cell_type": "markdown",
   "metadata": {},
   "source": [
    "### Step 1. Import the Required Modules and Libraries."
   ]
  },
  {
   "cell_type": "code",
   "execution_count": 1,
   "metadata": {},
   "outputs": [],
   "source": [
    "import pandas as pd\n",
    "import numpy as np\n",
    "import matplotlib.pyplot as plt"
   ]
  },
  {
   "cell_type": "markdown",
   "metadata": {},
   "source": [
    "### Step 2. Create a Pandas DataFrame From the Data CSV File."
   ]
  },
  {
   "cell_type": "code",
   "execution_count": 4,
   "metadata": {},
   "outputs": [
    {
     "data": {
      "text/html": [
       "<div>\n",
       "<style scoped>\n",
       "    .dataframe tbody tr th:only-of-type {\n",
       "        vertical-align: middle;\n",
       "    }\n",
       "\n",
       "    .dataframe tbody tr th {\n",
       "        vertical-align: top;\n",
       "    }\n",
       "\n",
       "    .dataframe thead th {\n",
       "        text-align: right;\n",
       "    }\n",
       "</style>\n",
       "<table border=\"1\" class=\"dataframe\">\n",
       "  <thead>\n",
       "    <tr style=\"text-align: right;\">\n",
       "      <th></th>\n",
       "      <th>order_id</th>\n",
       "      <th>order_date</th>\n",
       "      <th>customer_name</th>\n",
       "      <th>item_vendor_name</th>\n",
       "      <th>item</th>\n",
       "      <th>item_qty</th>\n",
       "      <th>price_per_unit</th>\n",
       "      <th>price_currency</th>\n",
       "    </tr>\n",
       "  </thead>\n",
       "  <tbody>\n",
       "    <tr>\n",
       "      <th>0</th>\n",
       "      <td>1</td>\n",
       "      <td>2022/05/31</td>\n",
       "      <td>Jane Bloggs</td>\n",
       "      <td>Wikizz</td>\n",
       "      <td>Lid - 3oz Med Rec</td>\n",
       "      <td>1.0</td>\n",
       "      <td>290.921</td>\n",
       "      <td>GBP</td>\n",
       "    </tr>\n",
       "    <tr>\n",
       "      <th>1</th>\n",
       "      <td>2</td>\n",
       "      <td>2022/06/14</td>\n",
       "      <td>Jane Bloggs</td>\n",
       "      <td>Yodoo</td>\n",
       "      <td>Beans - French</td>\n",
       "      <td>5.0</td>\n",
       "      <td>369.391</td>\n",
       "      <td>GBP</td>\n",
       "    </tr>\n",
       "    <tr>\n",
       "      <th>2</th>\n",
       "      <td>3</td>\n",
       "      <td>2021/08/25</td>\n",
       "      <td>Jane Bloggs</td>\n",
       "      <td>Zoonoodle</td>\n",
       "      <td>Maple Syrup</td>\n",
       "      <td>5.0</td>\n",
       "      <td>496.848</td>\n",
       "      <td>GBP</td>\n",
       "    </tr>\n",
       "    <tr>\n",
       "      <th>3</th>\n",
       "      <td>4</td>\n",
       "      <td>2021/09/01</td>\n",
       "      <td>Jane Bloggs</td>\n",
       "      <td>Skibox</td>\n",
       "      <td>Strawberries - California</td>\n",
       "      <td>5.0</td>\n",
       "      <td>129.945</td>\n",
       "      <td>GBP</td>\n",
       "    </tr>\n",
       "    <tr>\n",
       "      <th>4</th>\n",
       "      <td>5</td>\n",
       "      <td>2021/08/23</td>\n",
       "      <td>Jane Bloggs</td>\n",
       "      <td>Teklist</td>\n",
       "      <td>Lamb - Racks, Frenched</td>\n",
       "      <td>1.0</td>\n",
       "      <td>361.578</td>\n",
       "      <td>GBP</td>\n",
       "    </tr>\n",
       "  </tbody>\n",
       "</table>\n",
       "</div>"
      ],
      "text/plain": [
       "   order_id  order_date customer_name item_vendor_name  \\\n",
       "0         1  2022/05/31   Jane Bloggs           Wikizz   \n",
       "1         2  2022/06/14   Jane Bloggs            Yodoo   \n",
       "2         3  2021/08/25   Jane Bloggs        Zoonoodle   \n",
       "3         4  2021/09/01   Jane Bloggs           Skibox   \n",
       "4         5  2021/08/23   Jane Bloggs          Teklist   \n",
       "\n",
       "                        item  item_qty  price_per_unit price_currency  \n",
       "0          Lid - 3oz Med Rec       1.0         290.921            GBP  \n",
       "1             Beans - French       5.0         369.391            GBP  \n",
       "2                Maple Syrup       5.0         496.848            GBP  \n",
       "3  Strawberries - California       5.0         129.945            GBP  \n",
       "4     Lamb - Racks, Frenched       1.0         361.578            GBP  "
      ]
     },
     "execution_count": 4,
     "metadata": {},
     "output_type": "execute_result"
    }
   ],
   "source": [
    "order_data = pd.read_csv(\"data/order-data.csv\")\n",
    "\n",
    "# Show first five rows:\n",
    "order_data.head()"
   ]
  },
  {
   "cell_type": "markdown",
   "metadata": {},
   "source": [
    "### Step 3. Check for NaN (null) Values and Clean-Up."
   ]
  },
  {
   "cell_type": "markdown",
   "metadata": {},
   "source": [
    "Rules for cleanup:\n",
    "* order_id missing: Delete row.\n",
    "* order_date missing: Delete row.\n",
    "* customer_name missing: Set name to \"Jane Bloggs\".\n",
    "* item_vendor_name missing: Set name to \"unknown\".\n",
    "* item missing: Delete row.\n",
    "* item_qty missing: Delete row.\n",
    "* price_per_unit missing: Delete row.\n",
    "* price_currency missing: Set to \"GBP\"."
   ]
  },
  {
   "cell_type": "markdown",
   "metadata": {},
   "source": [
    "#### Step 3.1. Check for NaN In All Rows / Columns."
   ]
  },
  {
   "cell_type": "markdown",
   "metadata": {},
   "source": []
  }
 ],
 "metadata": {
  "kernelspec": {
   "display_name": "Python 3.10.4 (conda)",
   "language": "python",
   "name": "python3"
  },
  "language_info": {
   "codemirror_mode": {
    "name": "ipython",
    "version": 3
   },
   "file_extension": ".py",
   "mimetype": "text/x-python",
   "name": "python",
   "nbconvert_exporter": "python",
   "pygments_lexer": "ipython3",
   "version": "3.10.4"
  },
  "orig_nbformat": 4,
  "vscode": {
   "interpreter": {
    "hash": "4d75270ac13a007e0f8cbe0ccbc8bce419b323befac3f7ad9a0bd772cb850a7e"
   }
  }
 },
 "nbformat": 4,
 "nbformat_minor": 2
}
