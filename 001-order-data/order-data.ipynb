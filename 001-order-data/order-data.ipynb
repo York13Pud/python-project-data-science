{
 "cells": [
  {
   "cell_type": "markdown",
   "metadata": {},
   "source": [
    "# Order Data Analysis"
   ]
  },
  {
   "cell_type": "markdown",
   "metadata": {},
   "source": []
  }
 ],
 "metadata": {
  "kernelspec": {
   "display_name": "Python 3.10.4 (conda)",
   "language": "python",
   "name": "python3"
  },
  "language_info": {
   "name": "python",
   "version": "3.10.4"
  },
  "orig_nbformat": 4,
  "vscode": {
   "interpreter": {
    "hash": "4d75270ac13a007e0f8cbe0ccbc8bce419b323befac3f7ad9a0bd772cb850a7e"
   }
  }
 },
 "nbformat": 4,
 "nbformat_minor": 2
}
