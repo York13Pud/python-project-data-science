{
 "cells": [
  {
   "cell_type": "markdown",
   "metadata": {},
   "source": [
    "# Order Data Analysis."
   ]
  },
  {
   "cell_type": "markdown",
   "metadata": {},
   "source": [
    "## Project Goals and Requirements."
   ]
  },
  {
   "cell_type": "markdown",
   "metadata": {},
   "source": [
    "This project will have a few goals that must be met by the end. These goals are:\n",
    "* Clean up the data, specifically any missing data on any rows.\n",
    "* Create a total column that multiplies the price by the quantity ordered.\n",
    "* Create a number of charts (what they are is to be determined).\n",
    "    * Top 5 items that are frequently purchased\n",
    "* Export the results to and Excel workbook / worksheet."
   ]
  },
  {
   "cell_type": "markdown",
   "metadata": {},
   "source": [
    "## Project Solution."
   ]
  },
  {
   "cell_type": "markdown",
   "metadata": {},
   "source": [
    "### Step 1. Import the Required Modules and Libraries."
   ]
  },
  {
   "cell_type": "code",
   "execution_count": 38,
   "metadata": {},
   "outputs": [],
   "source": [
    "import pandas as pd\n",
    "import numpy as np\n",
    "import matplotlib.pyplot as plt\n",
    "from openpyxl import workbook, Workbook, worksheet"
   ]
  },
  {
   "cell_type": "markdown",
   "metadata": {},
   "source": [
    "### Step 2. Create a Pandas DataFrame From the Data CSV File."
   ]
  },
  {
   "cell_type": "markdown",
   "metadata": {},
   "source": [
    "In this section, a new Pandas dataframe will be created from a CSV file.\n",
    "\n",
    "Once that has been done, lets have a look at some of the data and the datatypes of each column in the dataframe."
   ]
  },
  {
   "cell_type": "markdown",
   "metadata": {},
   "source": [
    "### Step 2.1. Create the DataFrame."
   ]
  },
  {
   "cell_type": "code",
   "execution_count": 45,
   "metadata": {},
   "outputs": [],
   "source": [
    "order_data = pd.read_csv(\"data/order-data.csv\")"
   ]
  },
  {
   "cell_type": "markdown",
   "metadata": {},
   "source": [
    "### Step 2.2. Show the First Five Rows of the DataFrame."
   ]
  },
  {
   "cell_type": "code",
   "execution_count": 46,
   "metadata": {},
   "outputs": [
    {
     "data": {
      "text/html": [
       "<div>\n",
       "<style scoped>\n",
       "    .dataframe tbody tr th:only-of-type {\n",
       "        vertical-align: middle;\n",
       "    }\n",
       "\n",
       "    .dataframe tbody tr th {\n",
       "        vertical-align: top;\n",
       "    }\n",
       "\n",
       "    .dataframe thead th {\n",
       "        text-align: right;\n",
       "    }\n",
       "</style>\n",
       "<table border=\"1\" class=\"dataframe\">\n",
       "  <thead>\n",
       "    <tr style=\"text-align: right;\">\n",
       "      <th></th>\n",
       "      <th>order_id</th>\n",
       "      <th>order_date</th>\n",
       "      <th>customer_name</th>\n",
       "      <th>item_vendor_name</th>\n",
       "      <th>item</th>\n",
       "      <th>item_qty</th>\n",
       "      <th>price_per_unit</th>\n",
       "      <th>price_currency</th>\n",
       "    </tr>\n",
       "  </thead>\n",
       "  <tbody>\n",
       "    <tr>\n",
       "      <th>0</th>\n",
       "      <td>1</td>\n",
       "      <td>2022/05/31</td>\n",
       "      <td>Jane Bloggs</td>\n",
       "      <td>Wikizz</td>\n",
       "      <td>Lid - 3oz Med Rec</td>\n",
       "      <td>1.0</td>\n",
       "      <td>290.921</td>\n",
       "      <td>GBP</td>\n",
       "    </tr>\n",
       "    <tr>\n",
       "      <th>1</th>\n",
       "      <td>2</td>\n",
       "      <td>2022/06/14</td>\n",
       "      <td>Jane Bloggs</td>\n",
       "      <td>Yodoo</td>\n",
       "      <td>Beans - French</td>\n",
       "      <td>5.0</td>\n",
       "      <td>369.391</td>\n",
       "      <td>GBP</td>\n",
       "    </tr>\n",
       "    <tr>\n",
       "      <th>2</th>\n",
       "      <td>3</td>\n",
       "      <td>2021/08/25</td>\n",
       "      <td>Jane Bloggs</td>\n",
       "      <td>Zoonoodle</td>\n",
       "      <td>Maple Syrup</td>\n",
       "      <td>5.0</td>\n",
       "      <td>496.848</td>\n",
       "      <td>GBP</td>\n",
       "    </tr>\n",
       "    <tr>\n",
       "      <th>3</th>\n",
       "      <td>4</td>\n",
       "      <td>2021/09/01</td>\n",
       "      <td>Jane Bloggs</td>\n",
       "      <td>Skibox</td>\n",
       "      <td>Strawberries - California</td>\n",
       "      <td>5.0</td>\n",
       "      <td>129.945</td>\n",
       "      <td>GBP</td>\n",
       "    </tr>\n",
       "    <tr>\n",
       "      <th>4</th>\n",
       "      <td>5</td>\n",
       "      <td>2021/08/23</td>\n",
       "      <td>Jane Bloggs</td>\n",
       "      <td>Teklist</td>\n",
       "      <td>Lamb - Racks, Frenched</td>\n",
       "      <td>1.0</td>\n",
       "      <td>361.578</td>\n",
       "      <td>GBP</td>\n",
       "    </tr>\n",
       "  </tbody>\n",
       "</table>\n",
       "</div>"
      ],
      "text/plain": [
       "   order_id  order_date customer_name item_vendor_name  \\\n",
       "0         1  2022/05/31   Jane Bloggs           Wikizz   \n",
       "1         2  2022/06/14   Jane Bloggs            Yodoo   \n",
       "2         3  2021/08/25   Jane Bloggs        Zoonoodle   \n",
       "3         4  2021/09/01   Jane Bloggs           Skibox   \n",
       "4         5  2021/08/23   Jane Bloggs          Teklist   \n",
       "\n",
       "                        item  item_qty  price_per_unit price_currency  \n",
       "0          Lid - 3oz Med Rec       1.0         290.921            GBP  \n",
       "1             Beans - French       5.0         369.391            GBP  \n",
       "2                Maple Syrup       5.0         496.848            GBP  \n",
       "3  Strawberries - California       5.0         129.945            GBP  \n",
       "4     Lamb - Racks, Frenched       1.0         361.578            GBP  "
      ]
     },
     "execution_count": 46,
     "metadata": {},
     "output_type": "execute_result"
    }
   ],
   "source": [
    "order_data.head(n = 5)"
   ]
  },
  {
   "cell_type": "markdown",
   "metadata": {},
   "source": [
    "### Step 2.3. Show the DataTypes of Each Column in the DataFrame."
   ]
  },
  {
   "cell_type": "code",
   "execution_count": 47,
   "metadata": {},
   "outputs": [
    {
     "name": "stdout",
     "output_type": "stream",
     "text": [
      "<class 'pandas.core.frame.DataFrame'>\n",
      "RangeIndex: 1000 entries, 0 to 999\n",
      "Data columns (total 8 columns):\n",
      " #   Column            Non-Null Count  Dtype  \n",
      "---  ------            --------------  -----  \n",
      " 0   order_id          1000 non-null   int64  \n",
      " 1   order_date        983 non-null    object \n",
      " 2   customer_name     892 non-null    object \n",
      " 3   item_vendor_name  1000 non-null   object \n",
      " 4   item              892 non-null    object \n",
      " 5   item_qty          927 non-null    float64\n",
      " 6   price_per_unit    944 non-null    float64\n",
      " 7   price_currency    892 non-null    object \n",
      "dtypes: float64(2), int64(1), object(5)\n",
      "memory usage: 62.6+ KB\n"
     ]
    }
   ],
   "source": [
    "# --- Show the datatypes of each column:\n",
    "order_data.info()"
   ]
  },
  {
   "cell_type": "markdown",
   "metadata": {},
   "source": [
    "### Step 2.4. Show the Total Row Count in the DataFrame (Optional)."
   ]
  },
  {
   "cell_type": "code",
   "execution_count": 48,
   "metadata": {},
   "outputs": [
    {
     "name": "stdout",
     "output_type": "stream",
     "text": [
      "Total Rows (Before NaN Removal): 1000\n"
     ]
    }
   ],
   "source": [
    "print(f\"Total Rows (Before NaN Removal): {len(order_data)}\")"
   ]
  },
  {
   "cell_type": "markdown",
   "metadata": {},
   "source": [
    "### Step 3. Check for NaN (null) Values and Clean-Up."
   ]
  },
  {
   "cell_type": "markdown",
   "metadata": {},
   "source": [
    "Rules for cleanup:\n",
    "* order_id missing: Delete row.\n",
    "* order_date missing: Delete row.\n",
    "* customer_name missing: Set name to \"Jane Bloggs\".\n",
    "* item_vendor_name missing: Set name to \"Unknown\".\n",
    "* item: Remove any \",\" from the description and replace with \" -\".\n",
    "* item missing: Delete row.\n",
    "* item_qty missing: Delete row.\n",
    "* price_per_unit missing: Delete row.\n",
    "* price_currency missing: Set to \"GBP\"."
   ]
  },
  {
   "cell_type": "markdown",
   "metadata": {},
   "source": [
    "#### Step 3.1. Check for NaN In All Rows / Columns."
   ]
  },
  {
   "cell_type": "code",
   "execution_count": 49,
   "metadata": {},
   "outputs": [
    {
     "data": {
      "text/plain": [
       "order_id              0\n",
       "order_date           17\n",
       "customer_name       108\n",
       "item_vendor_name      0\n",
       "item                108\n",
       "item_qty             73\n",
       "price_per_unit       56\n",
       "price_currency      108\n",
       "dtype: int64"
      ]
     },
     "execution_count": 49,
     "metadata": {},
     "output_type": "execute_result"
    }
   ],
   "source": [
    "order_data.isna().sum()"
   ]
  },
  {
   "cell_type": "markdown",
   "metadata": {},
   "source": [
    "#### Step 3.2. Replace NaN Values (Where Required)."
   ]
  },
  {
   "cell_type": "markdown",
   "metadata": {},
   "source": [
    "Replace NaN in customer_name with \"Jane Bloggs\":"
   ]
  },
  {
   "cell_type": "code",
   "execution_count": 63,
   "metadata": {},
   "outputs": [
    {
     "name": "stdout",
     "output_type": "stream",
     "text": [
      "customer_name NaN: 0\n"
     ]
    }
   ],
   "source": [
    "order_data[\"customer_name\"].fillna(value = \"Jane Bloggs\",\n",
    "                                   inplace = True)\n",
    "\n",
    "# Check for any NaN in customer_name:\n",
    "print(f'customer_name NaN: {order_data[\"customer_name\"].isna().sum()}')"
   ]
  },
  {
   "cell_type": "markdown",
   "metadata": {},
   "source": [
    "Replace NaN in item_vendor_name with \"Unknown\":"
   ]
  },
  {
   "cell_type": "code",
   "execution_count": 64,
   "metadata": {},
   "outputs": [
    {
     "name": "stdout",
     "output_type": "stream",
     "text": [
      "item_vendor_name NaN: 0\n"
     ]
    }
   ],
   "source": [
    "order_data[\"item_vendor_name\"].fillna(value = \"Unknown\",\n",
    "                                   inplace = True)\n",
    "\n",
    "# Check for any NaN in item_vendor_name:\n",
    "print(f'item_vendor_name NaN: {order_data[\"item_vendor_name\"].isna().sum()}')"
   ]
  },
  {
   "cell_type": "code",
   "execution_count": 65,
   "metadata": {},
   "outputs": [
    {
     "name": "stdout",
     "output_type": "stream",
     "text": [
      "price_currency NaN: 0\n"
     ]
    }
   ],
   "source": [
    "# --- Replace NaN in price_currency with \"GBP\":\n",
    "order_data[\"price_currency\"].fillna(value = \"GBP\",\n",
    "                                   inplace = True)\n",
    "\n",
    "# Check for any NaN in price_currency:\n",
    "print(f'price_currency NaN: {order_data[\"price_currency\"].isna().sum()}')"
   ]
  },
  {
   "cell_type": "markdown",
   "metadata": {},
   "source": [
    "#### Step 3.3. Remove Lines With NaN Values (Where Required)."
   ]
  },
  {
   "cell_type": "markdown",
   "metadata": {},
   "source": [
    "Before removing any rows with NaN values, put those rows into a separate DataFrame so that it can be exported later on, mostly for reference."
   ]
  },
  {
   "cell_type": "code",
   "execution_count": 67,
   "metadata": {},
   "outputs": [
    {
     "data": {
      "text/html": [
       "<div>\n",
       "<style scoped>\n",
       "    .dataframe tbody tr th:only-of-type {\n",
       "        vertical-align: middle;\n",
       "    }\n",
       "\n",
       "    .dataframe tbody tr th {\n",
       "        vertical-align: top;\n",
       "    }\n",
       "\n",
       "    .dataframe thead th {\n",
       "        text-align: right;\n",
       "    }\n",
       "</style>\n",
       "<table border=\"1\" class=\"dataframe\">\n",
       "  <thead>\n",
       "    <tr style=\"text-align: right;\">\n",
       "      <th></th>\n",
       "      <th>order_id</th>\n",
       "      <th>order_date</th>\n",
       "      <th>customer_name</th>\n",
       "      <th>item_vendor_name</th>\n",
       "      <th>item</th>\n",
       "      <th>item_qty</th>\n",
       "      <th>price_per_unit</th>\n",
       "      <th>price_currency</th>\n",
       "    </tr>\n",
       "  </thead>\n",
       "  <tbody>\n",
       "    <tr>\n",
       "      <th>5</th>\n",
       "      <td>6</td>\n",
       "      <td>2022/04/18</td>\n",
       "      <td>Jane Bloggs</td>\n",
       "      <td>Blogpad</td>\n",
       "      <td>NaN</td>\n",
       "      <td>5.0</td>\n",
       "      <td>73.054</td>\n",
       "      <td>GBP</td>\n",
       "    </tr>\n",
       "    <tr>\n",
       "      <th>15</th>\n",
       "      <td>16</td>\n",
       "      <td>2022/06/07</td>\n",
       "      <td>Jane Bloggs</td>\n",
       "      <td>Skiptube</td>\n",
       "      <td>NaN</td>\n",
       "      <td>1.0</td>\n",
       "      <td>402.812</td>\n",
       "      <td>GBP</td>\n",
       "    </tr>\n",
       "    <tr>\n",
       "      <th>19</th>\n",
       "      <td>20</td>\n",
       "      <td>2021/11/19</td>\n",
       "      <td>Jane Bloggs</td>\n",
       "      <td>Chatterpoint</td>\n",
       "      <td>NaN</td>\n",
       "      <td>4.0</td>\n",
       "      <td>NaN</td>\n",
       "      <td>GBP</td>\n",
       "    </tr>\n",
       "    <tr>\n",
       "      <th>32</th>\n",
       "      <td>33</td>\n",
       "      <td>2021/11/26</td>\n",
       "      <td>Jane Bloggs</td>\n",
       "      <td>Tagpad</td>\n",
       "      <td>Chutney Sauce - Mango</td>\n",
       "      <td>3.0</td>\n",
       "      <td>NaN</td>\n",
       "      <td>GBP</td>\n",
       "    </tr>\n",
       "    <tr>\n",
       "      <th>35</th>\n",
       "      <td>36</td>\n",
       "      <td>2022/06/25</td>\n",
       "      <td>Jane Bloggs</td>\n",
       "      <td>Gabtype</td>\n",
       "      <td>NaN</td>\n",
       "      <td>5.0</td>\n",
       "      <td>374.410</td>\n",
       "      <td>GBP</td>\n",
       "    </tr>\n",
       "    <tr>\n",
       "      <th>...</th>\n",
       "      <td>...</td>\n",
       "      <td>...</td>\n",
       "      <td>...</td>\n",
       "      <td>...</td>\n",
       "      <td>...</td>\n",
       "      <td>...</td>\n",
       "      <td>...</td>\n",
       "      <td>...</td>\n",
       "    </tr>\n",
       "    <tr>\n",
       "      <th>987</th>\n",
       "      <td>988</td>\n",
       "      <td>NaN</td>\n",
       "      <td>Jane Bloggs</td>\n",
       "      <td>Kanoodle</td>\n",
       "      <td>NaN</td>\n",
       "      <td>5.0</td>\n",
       "      <td>189.884</td>\n",
       "      <td>GBP</td>\n",
       "    </tr>\n",
       "    <tr>\n",
       "      <th>988</th>\n",
       "      <td>989</td>\n",
       "      <td>2021/11/17</td>\n",
       "      <td>Jane Bloggs</td>\n",
       "      <td>Dabvine</td>\n",
       "      <td>Duck - Breast</td>\n",
       "      <td>NaN</td>\n",
       "      <td>37.220</td>\n",
       "      <td>GBP</td>\n",
       "    </tr>\n",
       "    <tr>\n",
       "      <th>991</th>\n",
       "      <td>992</td>\n",
       "      <td>2021/10/18</td>\n",
       "      <td>Jane Bloggs</td>\n",
       "      <td>Photobug</td>\n",
       "      <td>Silicone Parch. 16.3x24.3</td>\n",
       "      <td>NaN</td>\n",
       "      <td>497.564</td>\n",
       "      <td>GBP</td>\n",
       "    </tr>\n",
       "    <tr>\n",
       "      <th>993</th>\n",
       "      <td>994</td>\n",
       "      <td>2021/12/23</td>\n",
       "      <td>Jane Bloggs</td>\n",
       "      <td>Wikizz</td>\n",
       "      <td>Potatoes - Parissienne</td>\n",
       "      <td>NaN</td>\n",
       "      <td>389.482</td>\n",
       "      <td>GBP</td>\n",
       "    </tr>\n",
       "    <tr>\n",
       "      <th>994</th>\n",
       "      <td>995</td>\n",
       "      <td>2022/02/25</td>\n",
       "      <td>Jane Bloggs</td>\n",
       "      <td>Jaxnation</td>\n",
       "      <td>NaN</td>\n",
       "      <td>3.0</td>\n",
       "      <td>81.603</td>\n",
       "      <td>GBP</td>\n",
       "    </tr>\n",
       "  </tbody>\n",
       "</table>\n",
       "<p>232 rows × 8 columns</p>\n",
       "</div>"
      ],
      "text/plain": [
       "     order_id  order_date customer_name item_vendor_name  \\\n",
       "5           6  2022/04/18   Jane Bloggs          Blogpad   \n",
       "15         16  2022/06/07   Jane Bloggs         Skiptube   \n",
       "19         20  2021/11/19   Jane Bloggs     Chatterpoint   \n",
       "32         33  2021/11/26   Jane Bloggs           Tagpad   \n",
       "35         36  2022/06/25   Jane Bloggs          Gabtype   \n",
       "..        ...         ...           ...              ...   \n",
       "987       988         NaN   Jane Bloggs         Kanoodle   \n",
       "988       989  2021/11/17   Jane Bloggs          Dabvine   \n",
       "991       992  2021/10/18   Jane Bloggs         Photobug   \n",
       "993       994  2021/12/23   Jane Bloggs           Wikizz   \n",
       "994       995  2022/02/25   Jane Bloggs        Jaxnation   \n",
       "\n",
       "                          item  item_qty  price_per_unit price_currency  \n",
       "5                          NaN       5.0          73.054            GBP  \n",
       "15                         NaN       1.0         402.812            GBP  \n",
       "19                         NaN       4.0             NaN            GBP  \n",
       "32       Chutney Sauce - Mango       3.0             NaN            GBP  \n",
       "35                         NaN       5.0         374.410            GBP  \n",
       "..                         ...       ...             ...            ...  \n",
       "987                        NaN       5.0         189.884            GBP  \n",
       "988              Duck - Breast       NaN          37.220            GBP  \n",
       "991  Silicone Parch. 16.3x24.3       NaN         497.564            GBP  \n",
       "993     Potatoes - Parissienne       NaN         389.482            GBP  \n",
       "994                        NaN       3.0          81.603            GBP  \n",
       "\n",
       "[232 rows x 8 columns]"
      ]
     },
     "execution_count": 67,
     "metadata": {},
     "output_type": "execute_result"
    }
   ],
   "source": [
    "order_data_nan = order_data[order_data.isna().any(axis = 1)]\n",
    "order_data_nan"
   ]
  },
  {
   "cell_type": "markdown",
   "metadata": {},
   "source": [
    "As the above criteria for NaN values has been completed, any remaining NaN values in any row can be removed."
   ]
  },
  {
   "cell_type": "code",
   "execution_count": 12,
   "metadata": {},
   "outputs": [],
   "source": [
    "order_data.dropna(inplace = True)"
   ]
  },
  {
   "cell_type": "markdown",
   "metadata": {},
   "source": [
    "Check for any remaining NaN values. There should be none."
   ]
  },
  {
   "cell_type": "code",
   "execution_count": 13,
   "metadata": {},
   "outputs": [
    {
     "data": {
      "text/plain": [
       "order_id            0\n",
       "order_date          0\n",
       "customer_name       0\n",
       "item_vendor_name    0\n",
       "item                0\n",
       "item_qty            0\n",
       "price_per_unit      0\n",
       "price_currency      0\n",
       "dtype: int64"
      ]
     },
     "execution_count": 13,
     "metadata": {},
     "output_type": "execute_result"
    }
   ],
   "source": [
    "order_data.isna().sum()"
   ]
  },
  {
   "cell_type": "code",
   "execution_count": 14,
   "metadata": {},
   "outputs": [
    {
     "name": "stdout",
     "output_type": "stream",
     "text": [
      "Total Rows (After NaN Removal): 768\n"
     ]
    }
   ],
   "source": [
    "print(f\"Total Rows (After NaN Removal): {len(order_data)}\")"
   ]
  },
  {
   "cell_type": "markdown",
   "metadata": {},
   "source": [
    "#### Step 3.4. Reset The Index."
   ]
  },
  {
   "cell_type": "markdown",
   "metadata": {},
   "source": [
    "As rows have been removed, the index will need to be reset, otherwise it will still have the old index in there that started at 0 and ended at 999 (1000 rows).\n",
    "\n",
    "Note: By default, reset_index will create a new index and place the old index into a new column. To stop the old index being created in a new column, use drop = True."
   ]
  },
  {
   "cell_type": "code",
   "execution_count": 15,
   "metadata": {},
   "outputs": [],
   "source": [
    "order_data.reset_index(inplace = True, \n",
    "                       drop = True)"
   ]
  },
  {
   "cell_type": "markdown",
   "metadata": {},
   "source": [
    "#### Step 3.5. Replace \",\" with \" -\" in item Column."
   ]
  },
  {
   "cell_type": "markdown",
   "metadata": {},
   "source": [
    "Just to play safe, remove any \",\" in the item column with \" -\" so that there are no issues with exporting to CSV or any other format where \",\" could cause issues."
   ]
  },
  {
   "cell_type": "code",
   "execution_count": 16,
   "metadata": {},
   "outputs": [],
   "source": [
    "order_data[\"item\"] = order_data[\"item\"].str.replace(\",\", \" -\")"
   ]
  },
  {
   "cell_type": "markdown",
   "metadata": {},
   "source": [
    "#### Step 3.6. Convert order_date Column To Date from Object."
   ]
  },
  {
   "cell_type": "code",
   "execution_count": 17,
   "metadata": {},
   "outputs": [
    {
     "name": "stdout",
     "output_type": "stream",
     "text": [
      "order_date Data Type (Before Conversion): object\n",
      "order_date (Before Conversion):\n",
      "0    2022/05/31\n",
      "1    2022/06/14\n",
      "2    2021/08/25\n",
      "3    2021/09/01\n",
      "4    2021/08/23\n",
      "Name: order_date, dtype: object\n",
      "\n",
      "order_date Data Type (After Conversion): datetime64[ns]\n",
      "order_date (After Conversion:\n",
      "0   2022-05-31\n",
      "1   2022-06-14\n",
      "2   2021-08-25\n",
      "3   2021-09-01\n",
      "4   2021-08-23\n",
      "Name: order_date, dtype: datetime64[ns]\n"
     ]
    }
   ],
   "source": [
    "print(f'order_date Data Type (Before Conversion): {order_data[\"order_date\"].dtype}')\n",
    "print(f'order_date (Before Conversion):\\n{order_data[\"order_date\"].head(n = 5)}')\n",
    "\n",
    "order_data[\"order_date\"] = pd.to_datetime(order_data[\"order_date\"])\n",
    "\n",
    "print(f'\\norder_date Data Type (After Conversion): {order_data[\"order_date\"].dtype}')\n",
    "print(f'order_date (After Conversion:\\n{order_data[\"order_date\"].head(n = 5)}')"
   ]
  },
  {
   "cell_type": "markdown",
   "metadata": {},
   "source": [
    "#### Step 3.7. Convert item_qty Column To Integer from Float."
   ]
  },
  {
   "cell_type": "code",
   "execution_count": 18,
   "metadata": {},
   "outputs": [
    {
     "name": "stdout",
     "output_type": "stream",
     "text": [
      "item_qty Data Type (Before Conversion): float64\n",
      "item_qty (Before Conversion):\n",
      "0    1.0\n",
      "1    5.0\n",
      "2    5.0\n",
      "3    5.0\n",
      "4    1.0\n",
      "Name: item_qty, dtype: float64\n",
      "\n",
      "item_qty Data Type (After Conversion): Int64\n",
      "item_qty (After Conversion:\n",
      "0    1\n",
      "1    5\n",
      "2    5\n",
      "3    5\n",
      "4    1\n",
      "Name: item_qty, dtype: Int64\n"
     ]
    }
   ],
   "source": [
    "print(f'item_qty Data Type (Before Conversion): {order_data[\"item_qty\"].dtype}')\n",
    "print(f'item_qty (Before Conversion):\\n{order_data[\"item_qty\"].head(n = 5)}')\n",
    "\n",
    "order_data[\"item_qty\"] = order_data[\"item_qty\"].convert_dtypes(convert_integer=True)\n",
    "\n",
    "print(f'\\nitem_qty Data Type (After Conversion): {order_data[\"item_qty\"].dtype}')\n",
    "print(f'item_qty (After Conversion:\\n{order_data[\"item_qty\"].head(n = 5)}')"
   ]
  },
  {
   "cell_type": "markdown",
   "metadata": {},
   "source": [
    "#### Step 3.8. Round price_per_unit to Two Decimal Places."
   ]
  },
  {
   "cell_type": "code",
   "execution_count": 19,
   "metadata": {},
   "outputs": [
    {
     "name": "stdout",
     "output_type": "stream",
     "text": [
      "price_per_unit Data Type (Before Rounding): float64\n",
      "price_per_unit (Before Rounding):\n",
      "0    290.921\n",
      "1    369.391\n",
      "2    496.848\n",
      "3    129.945\n",
      "4    361.578\n",
      "Name: price_per_unit, dtype: float64\n",
      "\n",
      "price_per_unit Data Type (After Rounding): float64\n",
      "price_per_unit (After rounding):\n",
      "0    290.92\n",
      "1    369.39\n",
      "2    496.85\n",
      "3    129.94\n",
      "4    361.58\n",
      "Name: price_per_unit, dtype: float64\n"
     ]
    }
   ],
   "source": [
    "print(f'price_per_unit Data Type (Before Rounding): {order_data[\"price_per_unit\"].dtype}')\n",
    "print(f'price_per_unit (Before Rounding):\\n{order_data[\"price_per_unit\"].head(n = 5)}')\n",
    "\n",
    "order_data[\"price_per_unit\"] = order_data[\"price_per_unit\"].round(decimals=2)\n",
    "\n",
    "print(f'\\nprice_per_unit Data Type (After Rounding): {order_data[\"price_per_unit\"].dtype}')\n",
    "print(f'price_per_unit (After rounding):\\n{order_data[\"price_per_unit\"].head(n = 5)}')"
   ]
  },
  {
   "cell_type": "markdown",
   "metadata": {},
   "source": [
    "#### Step 3.9. Review The Current State of the DataFrame."
   ]
  },
  {
   "cell_type": "markdown",
   "metadata": {},
   "source": [
    "Show first five rows to see what the data looks like:"
   ]
  },
  {
   "cell_type": "code",
   "execution_count": 20,
   "metadata": {},
   "outputs": [
    {
     "data": {
      "text/html": [
       "<div>\n",
       "<style scoped>\n",
       "    .dataframe tbody tr th:only-of-type {\n",
       "        vertical-align: middle;\n",
       "    }\n",
       "\n",
       "    .dataframe tbody tr th {\n",
       "        vertical-align: top;\n",
       "    }\n",
       "\n",
       "    .dataframe thead th {\n",
       "        text-align: right;\n",
       "    }\n",
       "</style>\n",
       "<table border=\"1\" class=\"dataframe\">\n",
       "  <thead>\n",
       "    <tr style=\"text-align: right;\">\n",
       "      <th></th>\n",
       "      <th>order_id</th>\n",
       "      <th>order_date</th>\n",
       "      <th>customer_name</th>\n",
       "      <th>item_vendor_name</th>\n",
       "      <th>item</th>\n",
       "      <th>item_qty</th>\n",
       "      <th>price_per_unit</th>\n",
       "      <th>price_currency</th>\n",
       "    </tr>\n",
       "  </thead>\n",
       "  <tbody>\n",
       "    <tr>\n",
       "      <th>0</th>\n",
       "      <td>1</td>\n",
       "      <td>2022-05-31</td>\n",
       "      <td>Jane Bloggs</td>\n",
       "      <td>Wikizz</td>\n",
       "      <td>Lid - 3oz Med Rec</td>\n",
       "      <td>1</td>\n",
       "      <td>290.92</td>\n",
       "      <td>GBP</td>\n",
       "    </tr>\n",
       "    <tr>\n",
       "      <th>1</th>\n",
       "      <td>2</td>\n",
       "      <td>2022-06-14</td>\n",
       "      <td>Jane Bloggs</td>\n",
       "      <td>Yodoo</td>\n",
       "      <td>Beans - French</td>\n",
       "      <td>5</td>\n",
       "      <td>369.39</td>\n",
       "      <td>GBP</td>\n",
       "    </tr>\n",
       "    <tr>\n",
       "      <th>2</th>\n",
       "      <td>3</td>\n",
       "      <td>2021-08-25</td>\n",
       "      <td>Jane Bloggs</td>\n",
       "      <td>Zoonoodle</td>\n",
       "      <td>Maple Syrup</td>\n",
       "      <td>5</td>\n",
       "      <td>496.85</td>\n",
       "      <td>GBP</td>\n",
       "    </tr>\n",
       "    <tr>\n",
       "      <th>3</th>\n",
       "      <td>4</td>\n",
       "      <td>2021-09-01</td>\n",
       "      <td>Jane Bloggs</td>\n",
       "      <td>Skibox</td>\n",
       "      <td>Strawberries - California</td>\n",
       "      <td>5</td>\n",
       "      <td>129.94</td>\n",
       "      <td>GBP</td>\n",
       "    </tr>\n",
       "    <tr>\n",
       "      <th>4</th>\n",
       "      <td>5</td>\n",
       "      <td>2021-08-23</td>\n",
       "      <td>Jane Bloggs</td>\n",
       "      <td>Teklist</td>\n",
       "      <td>Lamb - Racks - Frenched</td>\n",
       "      <td>1</td>\n",
       "      <td>361.58</td>\n",
       "      <td>GBP</td>\n",
       "    </tr>\n",
       "  </tbody>\n",
       "</table>\n",
       "</div>"
      ],
      "text/plain": [
       "   order_id order_date customer_name item_vendor_name  \\\n",
       "0         1 2022-05-31   Jane Bloggs           Wikizz   \n",
       "1         2 2022-06-14   Jane Bloggs            Yodoo   \n",
       "2         3 2021-08-25   Jane Bloggs        Zoonoodle   \n",
       "3         4 2021-09-01   Jane Bloggs           Skibox   \n",
       "4         5 2021-08-23   Jane Bloggs          Teklist   \n",
       "\n",
       "                        item  item_qty  price_per_unit price_currency  \n",
       "0          Lid - 3oz Med Rec         1          290.92            GBP  \n",
       "1             Beans - French         5          369.39            GBP  \n",
       "2                Maple Syrup         5          496.85            GBP  \n",
       "3  Strawberries - California         5          129.94            GBP  \n",
       "4    Lamb - Racks - Frenched         1          361.58            GBP  "
      ]
     },
     "execution_count": 20,
     "metadata": {},
     "output_type": "execute_result"
    }
   ],
   "source": [
    "order_data.head(n = 5)"
   ]
  },
  {
   "cell_type": "markdown",
   "metadata": {},
   "source": [
    "Next, check that all of the datatypes are correct:"
   ]
  },
  {
   "cell_type": "code",
   "execution_count": 21,
   "metadata": {},
   "outputs": [
    {
     "name": "stdout",
     "output_type": "stream",
     "text": [
      "<class 'pandas.core.frame.DataFrame'>\n",
      "RangeIndex: 768 entries, 0 to 767\n",
      "Data columns (total 8 columns):\n",
      " #   Column            Non-Null Count  Dtype         \n",
      "---  ------            --------------  -----         \n",
      " 0   order_id          768 non-null    int64         \n",
      " 1   order_date        768 non-null    datetime64[ns]\n",
      " 2   customer_name     768 non-null    object        \n",
      " 3   item_vendor_name  768 non-null    object        \n",
      " 4   item              768 non-null    object        \n",
      " 5   item_qty          768 non-null    Int64         \n",
      " 6   price_per_unit    768 non-null    float64       \n",
      " 7   price_currency    768 non-null    object        \n",
      "dtypes: Int64(1), datetime64[ns](1), float64(1), int64(1), object(4)\n",
      "memory usage: 48.9+ KB\n"
     ]
    }
   ],
   "source": [
    "order_data.info()"
   ]
  },
  {
   "cell_type": "markdown",
   "metadata": {},
   "source": [
    "### Step 4. Create an Order Total Column."
   ]
  },
  {
   "cell_type": "markdown",
   "metadata": {},
   "source": [
    "There are a few ways to perform this:\n",
    "* Multiply the item_qty by the price_per_unit directly from the Pandas DataFrame.\n",
    "* Multiply the item_qty by the price_per_unit directly from the Pandas DataFrame using NumPy.\n",
    "* Create two NumPy arrays, one for item_qty and another for the price_per_unit.\n",
    "  * Multiply the two NumPy arrays together using np.multiply.\n",
    "\n",
    "Why would you look at using NumPy to do this when you can just directly do the multiplication from the Pandas DataFrame. One word: SPEEEEEEEEEEEEEED!\n",
    "\n",
    "Let's take a look (Note: Look at the output times, not the times with the green tick):"
   ]
  },
  {
   "cell_type": "code",
   "execution_count": 22,
   "metadata": {},
   "outputs": [
    {
     "name": "stdout",
     "output_type": "stream",
     "text": [
      "CPU times: user 101 µs, sys: 15 µs, total: 116 µs\n",
      "Wall time: 109 µs\n"
     ]
    }
   ],
   "source": [
    "# --- Create a new NumPy array from item_qty column in order_data Panda DataFrame:\n",
    "%time qty_array = np.array(order_data[\"item_qty\"])"
   ]
  },
  {
   "cell_type": "code",
   "execution_count": 23,
   "metadata": {},
   "outputs": [
    {
     "name": "stdout",
     "output_type": "stream",
     "text": [
      "CPU times: user 53 µs, sys: 5 µs, total: 58 µs\n",
      "Wall time: 59.1 µs\n"
     ]
    }
   ],
   "source": [
    "# --- Create a new NumPy array from price_per_unit column in order_data Panda DataFrame:\n",
    "%time price_array = np.array(order_data[\"price_per_unit\"])"
   ]
  },
  {
   "cell_type": "code",
   "execution_count": 24,
   "metadata": {},
   "outputs": [
    {
     "name": "stdout",
     "output_type": "stream",
     "text": [
      "CPU times: user 86 µs, sys: 32 µs, total: 118 µs\n",
      "Wall time: 109 µs\n"
     ]
    }
   ],
   "source": [
    "# --- Perform the multiply of qty by price directly using the two NumPy arrays:\n",
    "%time total_price_array = np.multiply(qty_array, price_array)"
   ]
  },
  {
   "cell_type": "code",
   "execution_count": 25,
   "metadata": {},
   "outputs": [
    {
     "name": "stdout",
     "output_type": "stream",
     "text": [
      "CPU times: user 403 µs, sys: 65 µs, total: 468 µs\n",
      "Wall time: 451 µs\n"
     ]
    }
   ],
   "source": [
    "# --- Perform the multiply of qty by price using NumPy directly from the order_data Panda DataFrame:\n",
    "%time total_price_from_df = np.multiply(order_data[\"item_qty\"], order_data[\"price_per_unit\"])"
   ]
  },
  {
   "cell_type": "code",
   "execution_count": 26,
   "metadata": {},
   "outputs": [
    {
     "name": "stdout",
     "output_type": "stream",
     "text": [
      "CPU times: user 309 µs, sys: 18 µs, total: 327 µs\n",
      "Wall time: 317 µs\n"
     ]
    }
   ],
   "source": [
    "# --- Perform the multiply of qty by price directly from the order_data Panda DataFrame:\n",
    "%time total_price_from_df = order_data[\"item_qty\"] * order_data[\"price_per_unit\"]"
   ]
  },
  {
   "cell_type": "code",
   "execution_count": 27,
   "metadata": {},
   "outputs": [
    {
     "data": {
      "text/html": [
       "<div>\n",
       "<style scoped>\n",
       "    .dataframe tbody tr th:only-of-type {\n",
       "        vertical-align: middle;\n",
       "    }\n",
       "\n",
       "    .dataframe tbody tr th {\n",
       "        vertical-align: top;\n",
       "    }\n",
       "\n",
       "    .dataframe thead th {\n",
       "        text-align: right;\n",
       "    }\n",
       "</style>\n",
       "<table border=\"1\" class=\"dataframe\">\n",
       "  <thead>\n",
       "    <tr style=\"text-align: right;\">\n",
       "      <th></th>\n",
       "      <th>order_id</th>\n",
       "      <th>order_date</th>\n",
       "      <th>customer_name</th>\n",
       "      <th>item_vendor_name</th>\n",
       "      <th>item</th>\n",
       "      <th>item_qty</th>\n",
       "      <th>price_per_unit</th>\n",
       "      <th>price_currency</th>\n",
       "      <th>order_total</th>\n",
       "    </tr>\n",
       "  </thead>\n",
       "  <tbody>\n",
       "    <tr>\n",
       "      <th>0</th>\n",
       "      <td>1</td>\n",
       "      <td>2022-05-31</td>\n",
       "      <td>Jane Bloggs</td>\n",
       "      <td>Wikizz</td>\n",
       "      <td>Lid - 3oz Med Rec</td>\n",
       "      <td>1</td>\n",
       "      <td>290.92</td>\n",
       "      <td>GBP</td>\n",
       "      <td>290.92</td>\n",
       "    </tr>\n",
       "    <tr>\n",
       "      <th>1</th>\n",
       "      <td>2</td>\n",
       "      <td>2022-06-14</td>\n",
       "      <td>Jane Bloggs</td>\n",
       "      <td>Yodoo</td>\n",
       "      <td>Beans - French</td>\n",
       "      <td>5</td>\n",
       "      <td>369.39</td>\n",
       "      <td>GBP</td>\n",
       "      <td>1846.95</td>\n",
       "    </tr>\n",
       "    <tr>\n",
       "      <th>2</th>\n",
       "      <td>3</td>\n",
       "      <td>2021-08-25</td>\n",
       "      <td>Jane Bloggs</td>\n",
       "      <td>Zoonoodle</td>\n",
       "      <td>Maple Syrup</td>\n",
       "      <td>5</td>\n",
       "      <td>496.85</td>\n",
       "      <td>GBP</td>\n",
       "      <td>2484.25</td>\n",
       "    </tr>\n",
       "    <tr>\n",
       "      <th>3</th>\n",
       "      <td>4</td>\n",
       "      <td>2021-09-01</td>\n",
       "      <td>Jane Bloggs</td>\n",
       "      <td>Skibox</td>\n",
       "      <td>Strawberries - California</td>\n",
       "      <td>5</td>\n",
       "      <td>129.94</td>\n",
       "      <td>GBP</td>\n",
       "      <td>649.70</td>\n",
       "    </tr>\n",
       "    <tr>\n",
       "      <th>4</th>\n",
       "      <td>5</td>\n",
       "      <td>2021-08-23</td>\n",
       "      <td>Jane Bloggs</td>\n",
       "      <td>Teklist</td>\n",
       "      <td>Lamb - Racks - Frenched</td>\n",
       "      <td>1</td>\n",
       "      <td>361.58</td>\n",
       "      <td>GBP</td>\n",
       "      <td>361.58</td>\n",
       "    </tr>\n",
       "  </tbody>\n",
       "</table>\n",
       "</div>"
      ],
      "text/plain": [
       "   order_id order_date customer_name item_vendor_name  \\\n",
       "0         1 2022-05-31   Jane Bloggs           Wikizz   \n",
       "1         2 2022-06-14   Jane Bloggs            Yodoo   \n",
       "2         3 2021-08-25   Jane Bloggs        Zoonoodle   \n",
       "3         4 2021-09-01   Jane Bloggs           Skibox   \n",
       "4         5 2021-08-23   Jane Bloggs          Teklist   \n",
       "\n",
       "                        item  item_qty  price_per_unit price_currency  \\\n",
       "0          Lid - 3oz Med Rec         1          290.92            GBP   \n",
       "1             Beans - French         5          369.39            GBP   \n",
       "2                Maple Syrup         5          496.85            GBP   \n",
       "3  Strawberries - California         5          129.94            GBP   \n",
       "4    Lamb - Racks - Frenched         1          361.58            GBP   \n",
       "\n",
       "   order_total  \n",
       "0       290.92  \n",
       "1      1846.95  \n",
       "2      2484.25  \n",
       "3       649.70  \n",
       "4       361.58  "
      ]
     },
     "execution_count": 27,
     "metadata": {},
     "output_type": "execute_result"
    }
   ],
   "source": [
    "order_data[\"order_total\"] = total_price_array.astype(\"float\")\n",
    "order_data.head(n=5)"
   ]
  },
  {
   "cell_type": "code",
   "execution_count": 28,
   "metadata": {},
   "outputs": [
    {
     "name": "stdout",
     "output_type": "stream",
     "text": [
      "<class 'pandas.core.frame.DataFrame'>\n",
      "RangeIndex: 768 entries, 0 to 767\n",
      "Data columns (total 9 columns):\n",
      " #   Column            Non-Null Count  Dtype         \n",
      "---  ------            --------------  -----         \n",
      " 0   order_id          768 non-null    int64         \n",
      " 1   order_date        768 non-null    datetime64[ns]\n",
      " 2   customer_name     768 non-null    object        \n",
      " 3   item_vendor_name  768 non-null    object        \n",
      " 4   item              768 non-null    object        \n",
      " 5   item_qty          768 non-null    Int64         \n",
      " 6   price_per_unit    768 non-null    float64       \n",
      " 7   price_currency    768 non-null    object        \n",
      " 8   order_total       768 non-null    float64       \n",
      "dtypes: Int64(1), datetime64[ns](1), float64(2), int64(1), object(4)\n",
      "memory usage: 54.9+ KB\n"
     ]
    }
   ],
   "source": [
    "#order_data.drop(labels = \"order_total\", axis = 1, inplace = True)\n",
    "order_data.info()"
   ]
  },
  {
   "cell_type": "code",
   "execution_count": 29,
   "metadata": {},
   "outputs": [
    {
     "data": {
      "text/html": [
       "<div>\n",
       "<style scoped>\n",
       "    .dataframe tbody tr th:only-of-type {\n",
       "        vertical-align: middle;\n",
       "    }\n",
       "\n",
       "    .dataframe tbody tr th {\n",
       "        vertical-align: top;\n",
       "    }\n",
       "\n",
       "    .dataframe thead th {\n",
       "        text-align: right;\n",
       "    }\n",
       "</style>\n",
       "<table border=\"1\" class=\"dataframe\">\n",
       "  <thead>\n",
       "    <tr style=\"text-align: right;\">\n",
       "      <th></th>\n",
       "      <th>order_id</th>\n",
       "      <th>order_date</th>\n",
       "      <th>customer_name</th>\n",
       "      <th>item_vendor_name</th>\n",
       "      <th>item</th>\n",
       "      <th>item_qty</th>\n",
       "      <th>price_per_unit</th>\n",
       "      <th>price_currency</th>\n",
       "      <th>order_total</th>\n",
       "    </tr>\n",
       "  </thead>\n",
       "  <tbody>\n",
       "    <tr>\n",
       "      <th>0</th>\n",
       "      <td>1</td>\n",
       "      <td>2022-05-31</td>\n",
       "      <td>Jane Bloggs</td>\n",
       "      <td>Wikizz</td>\n",
       "      <td>Lid - 3oz Med Rec</td>\n",
       "      <td>1</td>\n",
       "      <td>290.92</td>\n",
       "      <td>GBP</td>\n",
       "      <td>290.92</td>\n",
       "    </tr>\n",
       "    <tr>\n",
       "      <th>1</th>\n",
       "      <td>2</td>\n",
       "      <td>2022-06-14</td>\n",
       "      <td>Jane Bloggs</td>\n",
       "      <td>Yodoo</td>\n",
       "      <td>Beans - French</td>\n",
       "      <td>5</td>\n",
       "      <td>369.39</td>\n",
       "      <td>GBP</td>\n",
       "      <td>1846.95</td>\n",
       "    </tr>\n",
       "    <tr>\n",
       "      <th>2</th>\n",
       "      <td>3</td>\n",
       "      <td>2021-08-25</td>\n",
       "      <td>Jane Bloggs</td>\n",
       "      <td>Zoonoodle</td>\n",
       "      <td>Maple Syrup</td>\n",
       "      <td>5</td>\n",
       "      <td>496.85</td>\n",
       "      <td>GBP</td>\n",
       "      <td>2484.25</td>\n",
       "    </tr>\n",
       "    <tr>\n",
       "      <th>3</th>\n",
       "      <td>4</td>\n",
       "      <td>2021-09-01</td>\n",
       "      <td>Jane Bloggs</td>\n",
       "      <td>Skibox</td>\n",
       "      <td>Strawberries - California</td>\n",
       "      <td>5</td>\n",
       "      <td>129.94</td>\n",
       "      <td>GBP</td>\n",
       "      <td>649.70</td>\n",
       "    </tr>\n",
       "    <tr>\n",
       "      <th>4</th>\n",
       "      <td>5</td>\n",
       "      <td>2021-08-23</td>\n",
       "      <td>Jane Bloggs</td>\n",
       "      <td>Teklist</td>\n",
       "      <td>Lamb - Racks - Frenched</td>\n",
       "      <td>1</td>\n",
       "      <td>361.58</td>\n",
       "      <td>GBP</td>\n",
       "      <td>361.58</td>\n",
       "    </tr>\n",
       "    <tr>\n",
       "      <th>...</th>\n",
       "      <td>...</td>\n",
       "      <td>...</td>\n",
       "      <td>...</td>\n",
       "      <td>...</td>\n",
       "      <td>...</td>\n",
       "      <td>...</td>\n",
       "      <td>...</td>\n",
       "      <td>...</td>\n",
       "      <td>...</td>\n",
       "    </tr>\n",
       "    <tr>\n",
       "      <th>763</th>\n",
       "      <td>996</td>\n",
       "      <td>2021-11-13</td>\n",
       "      <td>Jane Bloggs</td>\n",
       "      <td>Youopia</td>\n",
       "      <td>Creme De Cacao Mcguines</td>\n",
       "      <td>4</td>\n",
       "      <td>475.11</td>\n",
       "      <td>GBP</td>\n",
       "      <td>1900.44</td>\n",
       "    </tr>\n",
       "    <tr>\n",
       "      <th>764</th>\n",
       "      <td>997</td>\n",
       "      <td>2022-01-11</td>\n",
       "      <td>Jane Bloggs</td>\n",
       "      <td>Skidoo</td>\n",
       "      <td>Cheese - Blue</td>\n",
       "      <td>5</td>\n",
       "      <td>230.24</td>\n",
       "      <td>GBP</td>\n",
       "      <td>1151.20</td>\n",
       "    </tr>\n",
       "    <tr>\n",
       "      <th>765</th>\n",
       "      <td>998</td>\n",
       "      <td>2022-03-13</td>\n",
       "      <td>Jane Bloggs</td>\n",
       "      <td>Flashpoint</td>\n",
       "      <td>Bouillion - Fish</td>\n",
       "      <td>1</td>\n",
       "      <td>312.54</td>\n",
       "      <td>GBP</td>\n",
       "      <td>312.54</td>\n",
       "    </tr>\n",
       "    <tr>\n",
       "      <th>766</th>\n",
       "      <td>999</td>\n",
       "      <td>2021-10-15</td>\n",
       "      <td>Jane Bloggs</td>\n",
       "      <td>Feedbug</td>\n",
       "      <td>Soda Water - Club Soda - 355 Ml</td>\n",
       "      <td>5</td>\n",
       "      <td>461.56</td>\n",
       "      <td>GBP</td>\n",
       "      <td>2307.80</td>\n",
       "    </tr>\n",
       "    <tr>\n",
       "      <th>767</th>\n",
       "      <td>1000</td>\n",
       "      <td>2022-04-13</td>\n",
       "      <td>Jane Bloggs</td>\n",
       "      <td>Vitz</td>\n",
       "      <td>Beef - Striploin Aa</td>\n",
       "      <td>5</td>\n",
       "      <td>444.57</td>\n",
       "      <td>GBP</td>\n",
       "      <td>2222.85</td>\n",
       "    </tr>\n",
       "  </tbody>\n",
       "</table>\n",
       "<p>768 rows × 9 columns</p>\n",
       "</div>"
      ],
      "text/plain": [
       "     order_id order_date customer_name item_vendor_name  \\\n",
       "0           1 2022-05-31   Jane Bloggs           Wikizz   \n",
       "1           2 2022-06-14   Jane Bloggs            Yodoo   \n",
       "2           3 2021-08-25   Jane Bloggs        Zoonoodle   \n",
       "3           4 2021-09-01   Jane Bloggs           Skibox   \n",
       "4           5 2021-08-23   Jane Bloggs          Teklist   \n",
       "..        ...        ...           ...              ...   \n",
       "763       996 2021-11-13   Jane Bloggs          Youopia   \n",
       "764       997 2022-01-11   Jane Bloggs           Skidoo   \n",
       "765       998 2022-03-13   Jane Bloggs       Flashpoint   \n",
       "766       999 2021-10-15   Jane Bloggs          Feedbug   \n",
       "767      1000 2022-04-13   Jane Bloggs             Vitz   \n",
       "\n",
       "                                item  item_qty  price_per_unit price_currency  \\\n",
       "0                  Lid - 3oz Med Rec         1          290.92            GBP   \n",
       "1                     Beans - French         5          369.39            GBP   \n",
       "2                        Maple Syrup         5          496.85            GBP   \n",
       "3          Strawberries - California         5          129.94            GBP   \n",
       "4            Lamb - Racks - Frenched         1          361.58            GBP   \n",
       "..                               ...       ...             ...            ...   \n",
       "763          Creme De Cacao Mcguines         4          475.11            GBP   \n",
       "764                    Cheese - Blue         5          230.24            GBP   \n",
       "765                 Bouillion - Fish         1          312.54            GBP   \n",
       "766  Soda Water - Club Soda - 355 Ml         5          461.56            GBP   \n",
       "767              Beef - Striploin Aa         5          444.57            GBP   \n",
       "\n",
       "     order_total  \n",
       "0         290.92  \n",
       "1        1846.95  \n",
       "2        2484.25  \n",
       "3         649.70  \n",
       "4         361.58  \n",
       "..           ...  \n",
       "763      1900.44  \n",
       "764      1151.20  \n",
       "765       312.54  \n",
       "766      2307.80  \n",
       "767      2222.85  \n",
       "\n",
       "[768 rows x 9 columns]"
      ]
     },
     "execution_count": 29,
     "metadata": {},
     "output_type": "execute_result"
    }
   ],
   "source": [
    "order_data"
   ]
  },
  {
   "cell_type": "code",
   "execution_count": 30,
   "metadata": {},
   "outputs": [],
   "source": [
    "order_data.to_csv(\"test.csv\", \n",
    "                  index = False)"
   ]
  },
  {
   "cell_type": "code",
   "execution_count": 44,
   "metadata": {},
   "outputs": [],
   "source": [
    "with pd.ExcelWriter(path = \"book.xlsx\") as writer:\n",
    "    order_data.to_excel(writer, \n",
    "                        index = False,\n",
    "                        sheet_name = \"order_data\")\n",
    "    order_data.to_excel(writer, \n",
    "                        index = False,\n",
    "                        sheet_name = \"order_data2\")\n"
   ]
  },
  {
   "cell_type": "code",
   "execution_count": null,
   "metadata": {},
   "outputs": [],
   "source": []
  }
 ],
 "metadata": {
  "kernelspec": {
   "display_name": "Python 3.10.4 (conda)",
   "language": "python",
   "name": "python3"
  },
  "language_info": {
   "codemirror_mode": {
    "name": "ipython",
    "version": 3
   },
   "file_extension": ".py",
   "mimetype": "text/x-python",
   "name": "python",
   "nbconvert_exporter": "python",
   "pygments_lexer": "ipython3",
   "version": "3.10.4"
  },
  "orig_nbformat": 4,
  "vscode": {
   "interpreter": {
    "hash": "4d75270ac13a007e0f8cbe0ccbc8bce419b323befac3f7ad9a0bd772cb850a7e"
   }
  }
 },
 "nbformat": 4,
 "nbformat_minor": 2
}
