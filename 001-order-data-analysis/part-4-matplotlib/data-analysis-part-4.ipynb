{
 "cells": [
  {
   "cell_type": "markdown",
   "metadata": {},
   "source": [
    "# Introduction to Data Analysis Part 4: Charts with Matplotlib"
   ]
  },
  {
   "cell_type": "markdown",
   "metadata": {},
   "source": [
    "## Importing Pandas NumPy and Matplotlib"
   ]
  },
  {
   "cell_type": "code",
   "execution_count": 13,
   "metadata": {},
   "outputs": [],
   "source": [
    "# --- %matplotlib inline will ensure that the plots and figures show up in the notebook.\n",
    "%matplotlib inline\n",
    "import pandas as pd\n",
    "import numpy as np\n",
    "import matplotlib.pyplot as plt\n",
    "from matplotlib.patches import Patch"
   ]
  },
  {
   "cell_type": "markdown",
   "metadata": {},
   "source": [
    "## Import Data From Excel and set the Data Types During Import"
   ]
  },
  {
   "cell_type": "code",
   "execution_count": 14,
   "metadata": {},
   "outputs": [],
   "source": [
    "sales_data = pd.read_excel(io = \"data/order_data_with_totals.xlsx\",\n",
    "                           sheet_name = \"order_data_with_totals\",\n",
    "                           dtype      = {\"order_id\": np.int64,\n",
    "                                         \"order_date\": \"datetime64\",\n",
    "                                         \"customer_id\": np.int64, \n",
    "                                         \"customer_first_name\": str,\n",
    "                                         \"customer_last_name\": str,\n",
    "                                         \"customer_gender\": str,\n",
    "                                         \"customer_city\": str,\n",
    "                                         \"customer_country\": str,\n",
    "                                         \"item_description\": str,\n",
    "                                         \"item_qty\": np.int64,\n",
    "                                         \"item_price\": np.float64,\n",
    "                                         \"order_currency\": str,\n",
    "                                         \"order_vat_rate\": np.float64,\n",
    "                                         \"order_total_ex_vat_local_currency\": np.float64,\n",
    "                                         \"order_total_vat_local_currency\": np.float64,\n",
    "                                         \"order_total_inc_vat_local_currency\": np.float64,\n",
    "                                         \"order_currency_conversion_rate\": np.float64,\n",
    "                                         \"order_total_ex_vat_converted_gbp\": np.float64,\n",
    "                                         \"order_total_vat_converted_gbp\": np.float64,\n",
    "                                         \"order_total_inc_vat_converted_gbp\": np.float64})"
   ]
  },
  {
   "cell_type": "markdown",
   "metadata": {},
   "source": [
    "## Validate the Data"
   ]
  },
  {
   "cell_type": "markdown",
   "metadata": {},
   "source": [
    "### What the Data Looks Like"
   ]
  },
  {
   "cell_type": "code",
   "execution_count": 15,
   "metadata": {},
   "outputs": [
    {
     "data": {
      "text/html": [
       "<div>\n",
       "<style scoped>\n",
       "    .dataframe tbody tr th:only-of-type {\n",
       "        vertical-align: middle;\n",
       "    }\n",
       "\n",
       "    .dataframe tbody tr th {\n",
       "        vertical-align: top;\n",
       "    }\n",
       "\n",
       "    .dataframe thead th {\n",
       "        text-align: right;\n",
       "    }\n",
       "</style>\n",
       "<table border=\"1\" class=\"dataframe\">\n",
       "  <thead>\n",
       "    <tr style=\"text-align: right;\">\n",
       "      <th></th>\n",
       "      <th>order_id</th>\n",
       "      <th>order_date</th>\n",
       "      <th>customer_id</th>\n",
       "      <th>customer_first_name</th>\n",
       "      <th>customer_last_name</th>\n",
       "      <th>customer_gender</th>\n",
       "      <th>customer_city</th>\n",
       "      <th>customer_country</th>\n",
       "      <th>item_description</th>\n",
       "      <th>item_qty</th>\n",
       "      <th>item_price</th>\n",
       "      <th>order_currency</th>\n",
       "      <th>order_vat_rate</th>\n",
       "      <th>order_total_ex_vat_local_currency</th>\n",
       "      <th>order_total_vat_local_currency</th>\n",
       "      <th>order_total_inc_vat_local_currency</th>\n",
       "      <th>order_currency_conversion_rate</th>\n",
       "      <th>order_total_ex_vat_converted_gbp</th>\n",
       "      <th>order_total_vat_converted_gbp</th>\n",
       "      <th>order_total_inc_vat_converted_gbp</th>\n",
       "    </tr>\n",
       "  </thead>\n",
       "  <tbody>\n",
       "    <tr>\n",
       "      <th>0</th>\n",
       "      <td>200001</td>\n",
       "      <td>2020-04-23</td>\n",
       "      <td>1001</td>\n",
       "      <td>Erin</td>\n",
       "      <td>Evans</td>\n",
       "      <td>Female</td>\n",
       "      <td>Swansea</td>\n",
       "      <td>United Kingdom</td>\n",
       "      <td>Tequila - Sauza Silver</td>\n",
       "      <td>45</td>\n",
       "      <td>2.27</td>\n",
       "      <td>GBP</td>\n",
       "      <td>20.0</td>\n",
       "      <td>102.15</td>\n",
       "      <td>20.43</td>\n",
       "      <td>122.58</td>\n",
       "      <td>1.0</td>\n",
       "      <td>102.15</td>\n",
       "      <td>20.43</td>\n",
       "      <td>122.58</td>\n",
       "    </tr>\n",
       "    <tr>\n",
       "      <th>1</th>\n",
       "      <td>200002</td>\n",
       "      <td>2021-07-19</td>\n",
       "      <td>1001</td>\n",
       "      <td>Erin</td>\n",
       "      <td>Evans</td>\n",
       "      <td>Female</td>\n",
       "      <td>Swansea</td>\n",
       "      <td>United Kingdom</td>\n",
       "      <td>Oil - Pumpkinseed</td>\n",
       "      <td>6</td>\n",
       "      <td>3.94</td>\n",
       "      <td>GBP</td>\n",
       "      <td>20.0</td>\n",
       "      <td>23.64</td>\n",
       "      <td>4.73</td>\n",
       "      <td>28.37</td>\n",
       "      <td>1.0</td>\n",
       "      <td>23.64</td>\n",
       "      <td>4.73</td>\n",
       "      <td>28.37</td>\n",
       "    </tr>\n",
       "    <tr>\n",
       "      <th>2</th>\n",
       "      <td>200003</td>\n",
       "      <td>2020-10-31</td>\n",
       "      <td>1001</td>\n",
       "      <td>Erin</td>\n",
       "      <td>Evans</td>\n",
       "      <td>Female</td>\n",
       "      <td>Swansea</td>\n",
       "      <td>United Kingdom</td>\n",
       "      <td>Nut - Cashews - Whole - Raw</td>\n",
       "      <td>15</td>\n",
       "      <td>1.78</td>\n",
       "      <td>GBP</td>\n",
       "      <td>20.0</td>\n",
       "      <td>26.70</td>\n",
       "      <td>5.34</td>\n",
       "      <td>32.04</td>\n",
       "      <td>1.0</td>\n",
       "      <td>26.70</td>\n",
       "      <td>5.34</td>\n",
       "      <td>32.04</td>\n",
       "    </tr>\n",
       "    <tr>\n",
       "      <th>3</th>\n",
       "      <td>200004</td>\n",
       "      <td>2020-08-14</td>\n",
       "      <td>1001</td>\n",
       "      <td>Erin</td>\n",
       "      <td>Evans</td>\n",
       "      <td>Female</td>\n",
       "      <td>Swansea</td>\n",
       "      <td>United Kingdom</td>\n",
       "      <td>Wine - Coteaux Du Tricastin Ac</td>\n",
       "      <td>1</td>\n",
       "      <td>3.63</td>\n",
       "      <td>GBP</td>\n",
       "      <td>20.0</td>\n",
       "      <td>3.63</td>\n",
       "      <td>0.73</td>\n",
       "      <td>4.36</td>\n",
       "      <td>1.0</td>\n",
       "      <td>3.63</td>\n",
       "      <td>0.73</td>\n",
       "      <td>4.36</td>\n",
       "    </tr>\n",
       "    <tr>\n",
       "      <th>4</th>\n",
       "      <td>200005</td>\n",
       "      <td>2021-05-01</td>\n",
       "      <td>1001</td>\n",
       "      <td>Erin</td>\n",
       "      <td>Evans</td>\n",
       "      <td>Female</td>\n",
       "      <td>Swansea</td>\n",
       "      <td>United Kingdom</td>\n",
       "      <td>Sambuca - Ramazzotti</td>\n",
       "      <td>43</td>\n",
       "      <td>3.85</td>\n",
       "      <td>GBP</td>\n",
       "      <td>20.0</td>\n",
       "      <td>165.55</td>\n",
       "      <td>33.11</td>\n",
       "      <td>198.66</td>\n",
       "      <td>1.0</td>\n",
       "      <td>165.55</td>\n",
       "      <td>33.11</td>\n",
       "      <td>198.66</td>\n",
       "    </tr>\n",
       "  </tbody>\n",
       "</table>\n",
       "</div>"
      ],
      "text/plain": [
       "   order_id order_date  customer_id customer_first_name customer_last_name  \\\n",
       "0    200001 2020-04-23         1001                Erin              Evans   \n",
       "1    200002 2021-07-19         1001                Erin              Evans   \n",
       "2    200003 2020-10-31         1001                Erin              Evans   \n",
       "3    200004 2020-08-14         1001                Erin              Evans   \n",
       "4    200005 2021-05-01         1001                Erin              Evans   \n",
       "\n",
       "  customer_gender customer_city customer_country  \\\n",
       "0          Female       Swansea   United Kingdom   \n",
       "1          Female       Swansea   United Kingdom   \n",
       "2          Female       Swansea   United Kingdom   \n",
       "3          Female       Swansea   United Kingdom   \n",
       "4          Female       Swansea   United Kingdom   \n",
       "\n",
       "                 item_description  item_qty  item_price order_currency  \\\n",
       "0          Tequila - Sauza Silver        45        2.27            GBP   \n",
       "1               Oil - Pumpkinseed         6        3.94            GBP   \n",
       "2     Nut - Cashews - Whole - Raw        15        1.78            GBP   \n",
       "3  Wine - Coteaux Du Tricastin Ac         1        3.63            GBP   \n",
       "4            Sambuca - Ramazzotti        43        3.85            GBP   \n",
       "\n",
       "   order_vat_rate  order_total_ex_vat_local_currency  \\\n",
       "0            20.0                             102.15   \n",
       "1            20.0                              23.64   \n",
       "2            20.0                              26.70   \n",
       "3            20.0                               3.63   \n",
       "4            20.0                             165.55   \n",
       "\n",
       "   order_total_vat_local_currency  order_total_inc_vat_local_currency  \\\n",
       "0                           20.43                              122.58   \n",
       "1                            4.73                               28.37   \n",
       "2                            5.34                               32.04   \n",
       "3                            0.73                                4.36   \n",
       "4                           33.11                              198.66   \n",
       "\n",
       "   order_currency_conversion_rate  order_total_ex_vat_converted_gbp  \\\n",
       "0                             1.0                            102.15   \n",
       "1                             1.0                             23.64   \n",
       "2                             1.0                             26.70   \n",
       "3                             1.0                              3.63   \n",
       "4                             1.0                            165.55   \n",
       "\n",
       "   order_total_vat_converted_gbp  order_total_inc_vat_converted_gbp  \n",
       "0                          20.43                             122.58  \n",
       "1                           4.73                              28.37  \n",
       "2                           5.34                              32.04  \n",
       "3                           0.73                               4.36  \n",
       "4                          33.11                             198.66  "
      ]
     },
     "execution_count": 15,
     "metadata": {},
     "output_type": "execute_result"
    }
   ],
   "source": [
    "sales_data.head(n = 5)"
   ]
  },
  {
   "cell_type": "markdown",
   "metadata": {},
   "source": [
    "### Check the Columns DataTypes"
   ]
  },
  {
   "cell_type": "code",
   "execution_count": 16,
   "metadata": {},
   "outputs": [
    {
     "data": {
      "text/plain": [
       "order_id                                       int64\n",
       "order_date                            datetime64[ns]\n",
       "customer_id                                    int64\n",
       "customer_first_name                           object\n",
       "customer_last_name                            object\n",
       "customer_gender                               object\n",
       "customer_city                                 object\n",
       "customer_country                              object\n",
       "item_description                              object\n",
       "item_qty                                       int64\n",
       "item_price                                   float64\n",
       "order_currency                                object\n",
       "order_vat_rate                               float64\n",
       "order_total_ex_vat_local_currency            float64\n",
       "order_total_vat_local_currency               float64\n",
       "order_total_inc_vat_local_currency           float64\n",
       "order_currency_conversion_rate               float64\n",
       "order_total_ex_vat_converted_gbp             float64\n",
       "order_total_vat_converted_gbp                float64\n",
       "order_total_inc_vat_converted_gbp            float64\n",
       "dtype: object"
      ]
     },
     "execution_count": 16,
     "metadata": {},
     "output_type": "execute_result"
    }
   ],
   "source": [
    "sales_data.dtypes"
   ]
  },
  {
   "cell_type": "markdown",
   "metadata": {},
   "source": [
    "### Check for NaN (Null) Values"
   ]
  },
  {
   "cell_type": "code",
   "execution_count": 17,
   "metadata": {},
   "outputs": [
    {
     "data": {
      "text/plain": [
       "order_id                              0\n",
       "order_date                            0\n",
       "customer_id                           0\n",
       "customer_first_name                   0\n",
       "customer_last_name                    0\n",
       "customer_gender                       0\n",
       "customer_city                         0\n",
       "customer_country                      0\n",
       "item_description                      0\n",
       "item_qty                              0\n",
       "item_price                            0\n",
       "order_currency                        0\n",
       "order_vat_rate                        0\n",
       "order_total_ex_vat_local_currency     0\n",
       "order_total_vat_local_currency        0\n",
       "order_total_inc_vat_local_currency    0\n",
       "order_currency_conversion_rate        0\n",
       "order_total_ex_vat_converted_gbp      0\n",
       "order_total_vat_converted_gbp         0\n",
       "order_total_inc_vat_converted_gbp     0\n",
       "dtype: int64"
      ]
     },
     "execution_count": 17,
     "metadata": {},
     "output_type": "execute_result"
    }
   ],
   "source": [
    "sales_data.isna().sum()"
   ]
  },
  {
   "cell_type": "markdown",
   "metadata": {},
   "source": [
    "## Setting up dataframes for plotting"
   ]
  },
  {
   "cell_type": "markdown",
   "metadata": {},
   "source": [
    "### Total number of orders by currency"
   ]
  },
  {
   "cell_type": "code",
   "execution_count": 18,
   "metadata": {},
   "outputs": [
    {
     "data": {
      "text/html": [
       "<div>\n",
       "<style scoped>\n",
       "    .dataframe tbody tr th:only-of-type {\n",
       "        vertical-align: middle;\n",
       "    }\n",
       "\n",
       "    .dataframe tbody tr th {\n",
       "        vertical-align: top;\n",
       "    }\n",
       "\n",
       "    .dataframe thead th {\n",
       "        text-align: right;\n",
       "    }\n",
       "</style>\n",
       "<table border=\"1\" class=\"dataframe\">\n",
       "  <thead>\n",
       "    <tr style=\"text-align: right;\">\n",
       "      <th></th>\n",
       "      <th>total_number_of_orders</th>\n",
       "    </tr>\n",
       "    <tr>\n",
       "      <th>order_currency</th>\n",
       "      <th></th>\n",
       "    </tr>\n",
       "  </thead>\n",
       "  <tbody>\n",
       "    <tr>\n",
       "      <th>EUR</th>\n",
       "      <td>1000</td>\n",
       "    </tr>\n",
       "    <tr>\n",
       "      <th>GBP</th>\n",
       "      <td>4000</td>\n",
       "    </tr>\n",
       "  </tbody>\n",
       "</table>\n",
       "</div>"
      ],
      "text/plain": [
       "                total_number_of_orders\n",
       "order_currency                        \n",
       "EUR                               1000\n",
       "GBP                               4000"
      ]
     },
     "execution_count": 18,
     "metadata": {},
     "output_type": "execute_result"
    }
   ],
   "source": [
    "orders_by_currency_df = sales_data.groupby([\"order_currency\"])\\\n",
    "                                  .size()\\\n",
    "                                  .to_frame(\"total_number_of_orders\")\\\n",
    "                                  .sort_values(\"total_number_of_orders\", \n",
    "                                               ascending = True)\n",
    "orders_by_currency_df"
   ]
  },
  {
   "cell_type": "markdown",
   "metadata": {},
   "source": [
    "### Total number of orders by gender"
   ]
  },
  {
   "cell_type": "code",
   "execution_count": 19,
   "metadata": {},
   "outputs": [
    {
     "data": {
      "text/html": [
       "<div>\n",
       "<style scoped>\n",
       "    .dataframe tbody tr th:only-of-type {\n",
       "        vertical-align: middle;\n",
       "    }\n",
       "\n",
       "    .dataframe tbody tr th {\n",
       "        vertical-align: top;\n",
       "    }\n",
       "\n",
       "    .dataframe thead th {\n",
       "        text-align: right;\n",
       "    }\n",
       "</style>\n",
       "<table border=\"1\" class=\"dataframe\">\n",
       "  <thead>\n",
       "    <tr style=\"text-align: right;\">\n",
       "      <th></th>\n",
       "      <th>no_of_orders</th>\n",
       "    </tr>\n",
       "    <tr>\n",
       "      <th>customer_gender</th>\n",
       "      <th></th>\n",
       "    </tr>\n",
       "  </thead>\n",
       "  <tbody>\n",
       "    <tr>\n",
       "      <th>Female</th>\n",
       "      <td>2000</td>\n",
       "    </tr>\n",
       "    <tr>\n",
       "      <th>Male</th>\n",
       "      <td>2000</td>\n",
       "    </tr>\n",
       "    <tr>\n",
       "      <th>Other</th>\n",
       "      <td>1000</td>\n",
       "    </tr>\n",
       "  </tbody>\n",
       "</table>\n",
       "</div>"
      ],
      "text/plain": [
       "                 no_of_orders\n",
       "customer_gender              \n",
       "Female                   2000\n",
       "Male                     2000\n",
       "Other                    1000"
      ]
     },
     "execution_count": 19,
     "metadata": {},
     "output_type": "execute_result"
    }
   ],
   "source": [
    "orders_by_gender_df = sales_data.groupby([\"customer_gender\"])\\\n",
    "                             .size()\\\n",
    "                             .to_frame(\"no_of_orders\")\\\n",
    "                             .sort_values(\"no_of_orders\", \n",
    "                                          ascending = False)\n",
    "orders_by_gender_df"
   ]
  },
  {
   "cell_type": "markdown",
   "metadata": {},
   "source": [
    "## Creating Charts with Matplotlib"
   ]
  },
  {
   "cell_type": "markdown",
   "metadata": {},
   "source": [
    "### Orders by currency chart"
   ]
  },
  {
   "cell_type": "code",
   "execution_count": 20,
   "metadata": {},
   "outputs": [
    {
     "data": {
      "text/plain": [
       "<AxesSubplot:xlabel='order_currency'>"
      ]
     },
     "execution_count": 20,
     "metadata": {},
     "output_type": "execute_result"
    },
    {
     "data": {
      "image/png": "[encoded data removed]",
      "text/plain": [
       "<Figure size 432x288 with 1 Axes>"
      ]
     },
     "metadata": {
      "needs_background": "light"
     },
     "output_type": "display_data"
    }
   ],
   "source": [
    "orders_by_currency_df.plot(kind = \"bar\")"
   ]
  },
  {
   "cell_type": "code",
   "execution_count": 21,
   "metadata": {},
   "outputs": [
    {
     "data": {
      "image/png": "[encoded data removed]",
      "text/plain": [
       "<Figure size 720x576 with 1 Axes>"
      ]
     },
     "metadata": {},
     "output_type": "display_data"
    }
   ],
   "source": [
    "# --- Create a list of colors to use for each item in the dataframe.\n",
    "colors_to_use = [\"blue\", \"red\"]\n",
    "\n",
    "\n",
    "# --- Setup the figure and the axis:\n",
    "fig, ax = plt.subplots(figsize = (10, 8))\n",
    "\n",
    "\n",
    "# --- This sets the background to white. There seems to be a bug in VS Code that can cause\n",
    "# --- the background to go dark when using dark mode passed through from the operating system.\n",
    "fig.set_facecolor(\"white\")\n",
    "\n",
    "\n",
    "# --- Customise the bar chart plot:\n",
    "ax.set_title(label    = \"Total Orders by Currency\", \n",
    "             fontdict = {\"fontsize\": 20,\n",
    "                         \"color\": \"black\",\n",
    "                         \"weight\": \"bold\"})\n",
    "\n",
    "\n",
    "# --- Set the x axis label:\n",
    "ax.set_xlabel(\"Currency\", fontsize = 16)\n",
    "plt.xticks(fontsize = 16)\n",
    "\n",
    "\n",
    "# --- Set the y axis label:\n",
    "ax.set_ylabel(\"Number of Orders\", fontsize = 16)\n",
    "plt.yticks(fontsize = 16)\n",
    "\n",
    "\n",
    "# --- Create a bar plot:\n",
    "bar_chart = ax.bar(x          = orders_by_currency_df.index.values, \n",
    "                   height     = orders_by_currency_df[\"total_number_of_orders\"],\n",
    "                   color      = colors_to_use,\n",
    "                   tick_label = orders_by_currency_df.index)\n",
    "\n",
    "\n",
    "# --- Set the label for each bar to appear inside each bar with the value of each currency:\n",
    "ax.bar_label(container  =bar_chart, \n",
    "             label_type = \"center\",\n",
    "             labels     = orders_by_currency_df[\"total_number_of_orders\"],\n",
    "             color      = \"white\",\n",
    "             weight     = \"bold\",\n",
    "             fontsize   = 16)\n",
    "\n",
    "\n",
    "# --- Create a dictionary that maps the currency to the color used.\n",
    "# --- These will be used in the the legend.\n",
    "currency_cmap = dict(zip(orders_by_currency_df.index.values, \n",
    "                         colors_to_use))\n",
    "\n",
    "patches = [Patch(label = currency, \n",
    "                 color = currency_color) for currency, currency_color in currency_cmap.items()]\n",
    "\n",
    "\n",
    "# # --- Add a legend:\n",
    "ax.legend(handles    = patches,\n",
    "          fontsize   = 16,\n",
    "          labelcolor = \"black\",\n",
    "          title      = \"Currency\",\n",
    "          title_fontproperties = {\"size\": 16,\n",
    "                                  \"weight\": \"bold\"});\n"
   ]
  },
  {
   "cell_type": "code",
   "execution_count": 22,
   "metadata": {},
   "outputs": [
    {
     "data": {
      "image/png": "[encoded data removed]",
      "text/plain": [
       "<Figure size 1008x720 with 1 Axes>"
      ]
     },
     "metadata": {},
     "output_type": "display_data"
    }
   ],
   "source": [
    "# --- Create a list of colors to use for each item in the dataframe.\n",
    "colors_to_use = [\"blue\", \"red\"]\n",
    "\n",
    "\n",
    "# --- Setup the figure and the axis:\n",
    "fig, ax = plt.subplots(figsize = (14, 10))\n",
    "\n",
    "\n",
    "# --- This sets the background to white. There seems to be a bug in VS Code that can cause\n",
    "# --- the background to go dark when using dark mode passed through from the operating system.\n",
    "fig.set_facecolor(\"white\")\n",
    "\n",
    "\n",
    "# --- Customise the pie chart plot:\n",
    "ax.set_title(label    = \"Total Orders by Currency (%)\", \n",
    "             fontdict = {\"fontsize\": 20,\n",
    "                         \"color\": \"black\",\n",
    "                         \"weight\": \"bold\"})\n",
    "\n",
    "\n",
    "# --- Create a pie chart plot.\n",
    "# --- explode will take one of the pieces out of the pie slightly.\n",
    "# --- autopct will format the percentages to two decimal points:\n",
    "patches, texts, pcts = ax.pie(x         = orders_by_currency_df[\"total_number_of_orders\"], \n",
    "                              labels    = orders_by_currency_df.index.values,\n",
    "                              explode   = (0.2, 0),\n",
    "                              autopct   = '%0.2f%%',\n",
    "                              shadow    = False,\n",
    "                              colors    = colors_to_use,\n",
    "                              textprops = {\"fontsize\": 16,\n",
    "                                           \"weight\": \"bold\"})\n",
    "\n",
    "\n",
    "# --- Set the color of the percentage to white:\n",
    "plt.setp(pcts, \n",
    "         color  = \"white\",\n",
    "         weight = \"bold\")\n",
    "\n",
    "\n",
    "# --- This will change the color of the text label for each slice to the color the slice used:\n",
    "for index_pos, patch in enumerate(patches):\n",
    "    texts[index_pos].set_color(patch.get_facecolor())\n",
    "\n",
    "\n",
    "# --- Add a legend:\n",
    "ax.legend(fontsize = 16,\n",
    "          title    = \"Currency\",\n",
    "          loc      = \"upper left\",\n",
    "          title_fontproperties = {\"size\": 16,\n",
    "                                  \"weight\": \"bold\"});"
   ]
  },
  {
   "cell_type": "code",
   "execution_count": 23,
   "metadata": {},
   "outputs": [
    {
     "data": {
      "image/png": "[encoded data removed]",
      "text/plain": [
       "<Figure size 1152x864 with 1 Axes>"
      ]
     },
     "metadata": {},
     "output_type": "display_data"
    }
   ],
   "source": [
    "# --- Create a list of colors to use for each item in the dataframe.\n",
    "colors_to_use = [\"red\", \"blue\",\"purple\"]\n",
    "\n",
    "\n",
    "# --- Setup the figure and the axis:\n",
    "fig, ax = plt.subplots(figsize = (16, 12))\n",
    "\n",
    "\n",
    "# --- This sets the background to white. There seems to be a bug in VS Code that can cause\n",
    "# --- the background to go dark when using dark mode passed through from the operating system.\n",
    "fig.set_facecolor(\"white\")\n",
    "\n",
    "\n",
    "# --- Customise the pie chart plot:\n",
    "ax.set_title(label  = \"Total Orders by Gender (%)\", \n",
    "             fontdict = {\"fontsize\": 20,\n",
    "                         \"color\": \"black\",\n",
    "                         \"weight\": \"bold\"})\n",
    "\n",
    "\n",
    "# --- Create a pie chart plot.\n",
    "# --- explode will not take any of the pieces out of the pie.\n",
    "# --- autopct will format the percentages to two decimal points:\n",
    "patches, texts, pcts = ax.pie(x = orders_by_gender_df[\"no_of_orders\"], \n",
    "                              labels = orders_by_gender_df.index.values,\n",
    "                              autopct = '%0.2f%%',\n",
    "                              explode = (0.0, 0.0, 0.0),\n",
    "                              shadow = False,\n",
    "                              colors= colors_to_use,\n",
    "                              textprops = {\"fontsize\": 16,\n",
    "                                           \"weight\": \"bold\"})\n",
    "\n",
    "\n",
    "# --- Set the color of the percentages to white:\n",
    "plt.setp(pcts, \n",
    "         color = \"white\",\n",
    "         weight = \"bold\")\n",
    "\n",
    "\n",
    "# --- This will change the color of the text label for each slice to the color the slice used:\n",
    "for index_pos, patch in enumerate(patches):\n",
    "    texts[index_pos].set_color(patch.get_facecolor())\n",
    "    \n",
    "\n",
    "# # --- Add a legend:\n",
    "ax.legend(fontsize = 16,\n",
    "          labelcolor = \"black\",\n",
    "          title = \"Gender\",\n",
    "          loc = \"upper left\",\n",
    "          title_fontproperties = {\"size\": 16,\n",
    "                                  \"weight\": \"bold\"});"
   ]
  }
 ],
 "metadata": {
  "kernelspec": {
   "display_name": "Python 3.10.4",
   "language": "python",
   "name": "python3"
  },
  "language_info": {
   "codemirror_mode": {
    "name": "ipython",
    "version": 3
   },
   "file_extension": ".py",
   "mimetype": "text/x-python",
   "name": "python",
   "nbconvert_exporter": "python",
   "pygments_lexer": "ipython3",
   "version": "3.10.4"
  },
  "orig_nbformat": 4,
  "vscode": {
   "interpreter": {
    "hash": "4d75270ac13a007e0f8cbe0ccbc8bce419b323befac3f7ad9a0bd772cb850a7e"
   }
  }
 },
 "nbformat": 4,
 "nbformat_minor": 2
}
