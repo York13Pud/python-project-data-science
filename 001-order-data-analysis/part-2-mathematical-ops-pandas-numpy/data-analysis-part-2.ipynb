{
 "cells": [
  {
   "cell_type": "markdown",
   "metadata": {},
   "source": [
    "# Introduction to Data Analysis Part 2: Mathematical Operations with Data Using Pandas and NumPy"
   ]
  },
  {
   "cell_type": "markdown",
   "metadata": {},
   "source": [
    "## Introduction"
   ]
  },
  {
   "cell_type": "markdown",
   "metadata": {},
   "source": [
    "## Importing Pandas and NumPy"
   ]
  },
  {
   "cell_type": "code",
   "execution_count": 1,
   "metadata": {},
   "outputs": [],
   "source": [
    "import pandas as pd\n",
    "import numpy as np"
   ]
  },
  {
   "cell_type": "markdown",
   "metadata": {},
   "source": [
    "## Import Data From Excel and set the Data Types During Import"
   ]
  },
  {
   "cell_type": "code",
   "execution_count": 2,
   "metadata": {},
   "outputs": [],
   "source": [
    "sales_data = pd.read_excel(io = \"data/orders-export.xlsx\",\n",
    "                           sheet_name = \"orders-export\",\n",
    "                           skiprows   = 1)"
   ]
  },
  {
   "cell_type": "markdown",
   "metadata": {},
   "source": [
    "## Validating the Data"
   ]
  },
  {
   "cell_type": "markdown",
   "metadata": {},
   "source": [
    "### What the Data Looks Like"
   ]
  },
  {
   "cell_type": "code",
   "execution_count": 3,
   "metadata": {},
   "outputs": [
    {
     "data": {
      "text/html": [
       "<div>\n",
       "<style scoped>\n",
       "    .dataframe tbody tr th:only-of-type {\n",
       "        vertical-align: middle;\n",
       "    }\n",
       "\n",
       "    .dataframe tbody tr th {\n",
       "        vertical-align: top;\n",
       "    }\n",
       "\n",
       "    .dataframe thead th {\n",
       "        text-align: right;\n",
       "    }\n",
       "</style>\n",
       "<table border=\"1\" class=\"dataframe\">\n",
       "  <thead>\n",
       "    <tr style=\"text-align: right;\">\n",
       "      <th></th>\n",
       "      <th>order_id</th>\n",
       "      <th>order_date</th>\n",
       "      <th>customer_id</th>\n",
       "      <th>customer_first_name</th>\n",
       "      <th>customer_last_name</th>\n",
       "      <th>customer_gender</th>\n",
       "      <th>customer_city</th>\n",
       "      <th>customer_country</th>\n",
       "      <th>item_description</th>\n",
       "      <th>item_qty</th>\n",
       "      <th>item_price</th>\n",
       "      <th>order_currency</th>\n",
       "      <th>order_vat_rate</th>\n",
       "    </tr>\n",
       "  </thead>\n",
       "  <tbody>\n",
       "    <tr>\n",
       "      <th>0</th>\n",
       "      <td>200001</td>\n",
       "      <td>23/04/2020</td>\n",
       "      <td>1001</td>\n",
       "      <td>Erin</td>\n",
       "      <td>Evans</td>\n",
       "      <td>Female</td>\n",
       "      <td>Swansea</td>\n",
       "      <td>United Kingdom</td>\n",
       "      <td>Tequila - Sauza Silver</td>\n",
       "      <td>45</td>\n",
       "      <td>2.27</td>\n",
       "      <td>GBP</td>\n",
       "      <td>20</td>\n",
       "    </tr>\n",
       "    <tr>\n",
       "      <th>1</th>\n",
       "      <td>200002</td>\n",
       "      <td>19/07/2021</td>\n",
       "      <td>1001</td>\n",
       "      <td>Erin</td>\n",
       "      <td>Evans</td>\n",
       "      <td>Female</td>\n",
       "      <td>Swansea</td>\n",
       "      <td>United Kingdom</td>\n",
       "      <td>Oil - Pumpkinseed</td>\n",
       "      <td>6</td>\n",
       "      <td>3.94</td>\n",
       "      <td>GBP</td>\n",
       "      <td>20</td>\n",
       "    </tr>\n",
       "    <tr>\n",
       "      <th>2</th>\n",
       "      <td>200003</td>\n",
       "      <td>31/10/2020</td>\n",
       "      <td>1001</td>\n",
       "      <td>Erin</td>\n",
       "      <td>Evans</td>\n",
       "      <td>Female</td>\n",
       "      <td>Swansea</td>\n",
       "      <td>United Kingdom</td>\n",
       "      <td>Nut - Cashews, Whole, Raw</td>\n",
       "      <td>15</td>\n",
       "      <td>1.78</td>\n",
       "      <td>GBP</td>\n",
       "      <td>20</td>\n",
       "    </tr>\n",
       "    <tr>\n",
       "      <th>3</th>\n",
       "      <td>200004</td>\n",
       "      <td>14/08/2020</td>\n",
       "      <td>1001</td>\n",
       "      <td>Erin</td>\n",
       "      <td>Evans</td>\n",
       "      <td>Female</td>\n",
       "      <td>Swansea</td>\n",
       "      <td>United Kingdom</td>\n",
       "      <td>Wine - Coteaux Du Tricastin Ac</td>\n",
       "      <td>1</td>\n",
       "      <td>3.63</td>\n",
       "      <td>GBP</td>\n",
       "      <td>20</td>\n",
       "    </tr>\n",
       "    <tr>\n",
       "      <th>4</th>\n",
       "      <td>200005</td>\n",
       "      <td>01/05/2021</td>\n",
       "      <td>1001</td>\n",
       "      <td>Erin</td>\n",
       "      <td>Evans</td>\n",
       "      <td>Female</td>\n",
       "      <td>Swansea</td>\n",
       "      <td>United Kingdom</td>\n",
       "      <td>Sambuca - Ramazzotti</td>\n",
       "      <td>43</td>\n",
       "      <td>3.85</td>\n",
       "      <td>GBP</td>\n",
       "      <td>20</td>\n",
       "    </tr>\n",
       "  </tbody>\n",
       "</table>\n",
       "</div>"
      ],
      "text/plain": [
       "   order_id  order_date  customer_id customer_first_name customer_last_name  \\\n",
       "0    200001  23/04/2020         1001                Erin              Evans   \n",
       "1    200002  19/07/2021         1001                Erin              Evans   \n",
       "2    200003  31/10/2020         1001                Erin              Evans   \n",
       "3    200004  14/08/2020         1001                Erin              Evans   \n",
       "4    200005  01/05/2021         1001                Erin              Evans   \n",
       "\n",
       "  customer_gender customer_city customer_country  \\\n",
       "0          Female       Swansea   United Kingdom   \n",
       "1          Female       Swansea   United Kingdom   \n",
       "2          Female       Swansea   United Kingdom   \n",
       "3          Female       Swansea   United Kingdom   \n",
       "4          Female       Swansea   United Kingdom   \n",
       "\n",
       "                 item_description  item_qty  item_price order_currency  \\\n",
       "0          Tequila - Sauza Silver        45        2.27            GBP   \n",
       "1               Oil - Pumpkinseed         6        3.94            GBP   \n",
       "2       Nut - Cashews, Whole, Raw        15        1.78            GBP   \n",
       "3  Wine - Coteaux Du Tricastin Ac         1        3.63            GBP   \n",
       "4            Sambuca - Ramazzotti        43        3.85            GBP   \n",
       "\n",
       "   order_vat_rate  \n",
       "0              20  \n",
       "1              20  \n",
       "2              20  \n",
       "3              20  \n",
       "4              20  "
      ]
     },
     "execution_count": 3,
     "metadata": {},
     "output_type": "execute_result"
    }
   ],
   "source": [
    "sales_data.head(n = 5)"
   ]
  },
  {
   "cell_type": "markdown",
   "metadata": {},
   "source": [
    "### Check the Columns DataTypes"
   ]
  },
  {
   "cell_type": "code",
   "execution_count": 4,
   "metadata": {},
   "outputs": [
    {
     "data": {
      "text/plain": [
       "order_id                 int64\n",
       "order_date              object\n",
       "customer_id              int64\n",
       "customer_first_name     object\n",
       "customer_last_name      object\n",
       "customer_gender         object\n",
       "customer_city           object\n",
       "customer_country        object\n",
       "item_description        object\n",
       "item_qty                 int64\n",
       "item_price             float64\n",
       "order_currency          object\n",
       "order_vat_rate           int64\n",
       "dtype: object"
      ]
     },
     "execution_count": 4,
     "metadata": {},
     "output_type": "execute_result"
    }
   ],
   "source": [
    "sales_data.dtypes"
   ]
  },
  {
   "cell_type": "markdown",
   "metadata": {},
   "source": [
    "## Import Data From Excel Again and Set / Convert the Data Types During Import"
   ]
  },
  {
   "cell_type": "code",
   "execution_count": 5,
   "metadata": {},
   "outputs": [],
   "source": [
    "\n",
    "sales_data = pd.read_excel(io = \"data/orders-export.xlsx\",\n",
    "                           sheet_name = \"orders-export\",\n",
    "                           skiprows   = 1,\n",
    "                           dtype      = {\"order_id\": np.int64,\n",
    "                                         \"customer_id\": np.int64, \n",
    "                                         \"customer_first_name\": str,\n",
    "                                         \"customer_last_name\": str,\n",
    "                                         \"customer_gender\": str,\n",
    "                                         \"customer_city\": str,\n",
    "                                         \"customer_country\": str,\n",
    "                                         \"item_qty\": np.int64,\n",
    "                                         \"item_price\": np.float64,\n",
    "                                         \"order_currency\": str,\n",
    "                                         \"order_vat_rate\": np.float64},\n",
    "                           converters = {\"order_date\": lambda date: pd.to_datetime(date, dayfirst=True),\n",
    "                                         \"item_description\": lambda description: description.replace(\",\", \" -\")})"
   ]
  },
  {
   "cell_type": "code",
   "execution_count": 6,
   "metadata": {},
   "outputs": [
    {
     "data": {
      "text/html": [
       "<div>\n",
       "<style scoped>\n",
       "    .dataframe tbody tr th:only-of-type {\n",
       "        vertical-align: middle;\n",
       "    }\n",
       "\n",
       "    .dataframe tbody tr th {\n",
       "        vertical-align: top;\n",
       "    }\n",
       "\n",
       "    .dataframe thead th {\n",
       "        text-align: right;\n",
       "    }\n",
       "</style>\n",
       "<table border=\"1\" class=\"dataframe\">\n",
       "  <thead>\n",
       "    <tr style=\"text-align: right;\">\n",
       "      <th></th>\n",
       "      <th>order_id</th>\n",
       "      <th>order_date</th>\n",
       "      <th>customer_id</th>\n",
       "      <th>customer_first_name</th>\n",
       "      <th>customer_last_name</th>\n",
       "      <th>customer_gender</th>\n",
       "      <th>customer_city</th>\n",
       "      <th>customer_country</th>\n",
       "      <th>item_description</th>\n",
       "      <th>item_qty</th>\n",
       "      <th>item_price</th>\n",
       "      <th>order_currency</th>\n",
       "      <th>order_vat_rate</th>\n",
       "    </tr>\n",
       "  </thead>\n",
       "  <tbody>\n",
       "    <tr>\n",
       "      <th>0</th>\n",
       "      <td>200001</td>\n",
       "      <td>2020-04-23</td>\n",
       "      <td>1001</td>\n",
       "      <td>Erin</td>\n",
       "      <td>Evans</td>\n",
       "      <td>Female</td>\n",
       "      <td>Swansea</td>\n",
       "      <td>United Kingdom</td>\n",
       "      <td>Tequila - Sauza Silver</td>\n",
       "      <td>45</td>\n",
       "      <td>2.27</td>\n",
       "      <td>GBP</td>\n",
       "      <td>20.0</td>\n",
       "    </tr>\n",
       "    <tr>\n",
       "      <th>1</th>\n",
       "      <td>200002</td>\n",
       "      <td>2021-07-19</td>\n",
       "      <td>1001</td>\n",
       "      <td>Erin</td>\n",
       "      <td>Evans</td>\n",
       "      <td>Female</td>\n",
       "      <td>Swansea</td>\n",
       "      <td>United Kingdom</td>\n",
       "      <td>Oil - Pumpkinseed</td>\n",
       "      <td>6</td>\n",
       "      <td>3.94</td>\n",
       "      <td>GBP</td>\n",
       "      <td>20.0</td>\n",
       "    </tr>\n",
       "    <tr>\n",
       "      <th>2</th>\n",
       "      <td>200003</td>\n",
       "      <td>2020-10-31</td>\n",
       "      <td>1001</td>\n",
       "      <td>Erin</td>\n",
       "      <td>Evans</td>\n",
       "      <td>Female</td>\n",
       "      <td>Swansea</td>\n",
       "      <td>United Kingdom</td>\n",
       "      <td>Nut - Cashews - Whole - Raw</td>\n",
       "      <td>15</td>\n",
       "      <td>1.78</td>\n",
       "      <td>GBP</td>\n",
       "      <td>20.0</td>\n",
       "    </tr>\n",
       "    <tr>\n",
       "      <th>3</th>\n",
       "      <td>200004</td>\n",
       "      <td>2020-08-14</td>\n",
       "      <td>1001</td>\n",
       "      <td>Erin</td>\n",
       "      <td>Evans</td>\n",
       "      <td>Female</td>\n",
       "      <td>Swansea</td>\n",
       "      <td>United Kingdom</td>\n",
       "      <td>Wine - Coteaux Du Tricastin Ac</td>\n",
       "      <td>1</td>\n",
       "      <td>3.63</td>\n",
       "      <td>GBP</td>\n",
       "      <td>20.0</td>\n",
       "    </tr>\n",
       "    <tr>\n",
       "      <th>4</th>\n",
       "      <td>200005</td>\n",
       "      <td>2021-05-01</td>\n",
       "      <td>1001</td>\n",
       "      <td>Erin</td>\n",
       "      <td>Evans</td>\n",
       "      <td>Female</td>\n",
       "      <td>Swansea</td>\n",
       "      <td>United Kingdom</td>\n",
       "      <td>Sambuca - Ramazzotti</td>\n",
       "      <td>43</td>\n",
       "      <td>3.85</td>\n",
       "      <td>GBP</td>\n",
       "      <td>20.0</td>\n",
       "    </tr>\n",
       "  </tbody>\n",
       "</table>\n",
       "</div>"
      ],
      "text/plain": [
       "   order_id order_date  customer_id customer_first_name customer_last_name  \\\n",
       "0    200001 2020-04-23         1001                Erin              Evans   \n",
       "1    200002 2021-07-19         1001                Erin              Evans   \n",
       "2    200003 2020-10-31         1001                Erin              Evans   \n",
       "3    200004 2020-08-14         1001                Erin              Evans   \n",
       "4    200005 2021-05-01         1001                Erin              Evans   \n",
       "\n",
       "  customer_gender customer_city customer_country  \\\n",
       "0          Female       Swansea   United Kingdom   \n",
       "1          Female       Swansea   United Kingdom   \n",
       "2          Female       Swansea   United Kingdom   \n",
       "3          Female       Swansea   United Kingdom   \n",
       "4          Female       Swansea   United Kingdom   \n",
       "\n",
       "                 item_description  item_qty  item_price order_currency  \\\n",
       "0          Tequila - Sauza Silver        45        2.27            GBP   \n",
       "1               Oil - Pumpkinseed         6        3.94            GBP   \n",
       "2     Nut - Cashews - Whole - Raw        15        1.78            GBP   \n",
       "3  Wine - Coteaux Du Tricastin Ac         1        3.63            GBP   \n",
       "4            Sambuca - Ramazzotti        43        3.85            GBP   \n",
       "\n",
       "   order_vat_rate  \n",
       "0            20.0  \n",
       "1            20.0  \n",
       "2            20.0  \n",
       "3            20.0  \n",
       "4            20.0  "
      ]
     },
     "execution_count": 6,
     "metadata": {},
     "output_type": "execute_result"
    }
   ],
   "source": [
    "sales_data.head()"
   ]
  },
  {
   "cell_type": "code",
   "execution_count": 7,
   "metadata": {},
   "outputs": [
    {
     "data": {
      "text/plain": [
       "order_id                        int64\n",
       "order_date             datetime64[ns]\n",
       "customer_id                     int64\n",
       "customer_first_name            object\n",
       "customer_last_name             object\n",
       "customer_gender                object\n",
       "customer_city                  object\n",
       "customer_country               object\n",
       "item_description               object\n",
       "item_qty                        int64\n",
       "item_price                    float64\n",
       "order_currency                 object\n",
       "order_vat_rate                float64\n",
       "dtype: object"
      ]
     },
     "execution_count": 7,
     "metadata": {},
     "output_type": "execute_result"
    }
   ],
   "source": [
    "sales_data.dtypes"
   ]
  },
  {
   "cell_type": "markdown",
   "metadata": {},
   "source": [
    "### Check for NaN (Null) Values"
   ]
  },
  {
   "cell_type": "code",
   "execution_count": 8,
   "metadata": {},
   "outputs": [
    {
     "data": {
      "text/plain": [
       "order_id               0\n",
       "order_date             0\n",
       "customer_id            0\n",
       "customer_first_name    0\n",
       "customer_last_name     0\n",
       "customer_gender        0\n",
       "customer_city          0\n",
       "customer_country       0\n",
       "item_description       0\n",
       "item_qty               0\n",
       "item_price             0\n",
       "order_currency         0\n",
       "order_vat_rate         0\n",
       "dtype: int64"
      ]
     },
     "execution_count": 8,
     "metadata": {},
     "output_type": "execute_result"
    }
   ],
   "source": [
    "sales_data.isna().sum()"
   ]
  },
  {
   "cell_type": "markdown",
   "metadata": {},
   "source": [
    "## Adding Custom Columns\n",
    "\n",
    "- Convert eur to gbp\n",
    "- total ex vat = qty * price\n",
    "- total inc vat = total ex vat * (vat / 100)\n",
    "  - Show examples with Pandas and NumPy"
   ]
  },
  {
   "cell_type": "markdown",
   "metadata": {},
   "source": [
    "### Pandas vs. NumPy for Mathematical Operations"
   ]
  },
  {
   "cell_type": "code",
   "execution_count": 9,
   "metadata": {},
   "outputs": [
    {
     "name": "stdout",
     "output_type": "stream",
     "text": [
      "220 µs ± 7.11 µs per loop (mean ± std. dev. of 7 runs, 1,000 loops each)\n"
     ]
    }
   ],
   "source": [
    "# --- Order total ex VAT (Local currency) - all pandas method for multiplication\n",
    "%timeit sales_data[\"order_total_ex_vat_local_currency_pandas\"] =  np.around(sales_data[\"item_qty\"] * sales_data[\"item_price\"], \\\n",
    "                                                                            decimals = 2)"
   ]
  },
  {
   "cell_type": "code",
   "execution_count": 10,
   "metadata": {},
   "outputs": [
    {
     "name": "stdout",
     "output_type": "stream",
     "text": [
      "247 µs ± 15.1 µs per loop (mean ± std. dev. of 7 runs, 1,000 loops each)\n"
     ]
    }
   ],
   "source": [
    "# --- Order total ex VAT (Local currency) - np multiply by reading from pandas dataframe\n",
    "%timeit sales_data[\"order_total_ex_vat_local_currency_mixed\"] =  np.around(np.multiply(sales_data[\"item_qty\"], \\\n",
    "                                                                                       sales_data[\"item_price\"]), \\\n",
    "                                                                                       decimals = 2)"
   ]
  },
  {
   "cell_type": "code",
   "execution_count": 11,
   "metadata": {},
   "outputs": [
    {
     "name": "stdout",
     "output_type": "stream",
     "text": [
      "6.64 µs ± 56.3 ns per loop (mean ± std. dev. of 7 runs, 100,000 loops each)\n",
      "6.64 µs ± 39.5 ns per loop (mean ± std. dev. of 7 runs, 100,000 loops each)\n",
      "18.1 µs ± 248 ns per loop (mean ± std. dev. of 7 runs, 100,000 loops each)\n",
      "23.4 µs ± 727 ns per loop (mean ± std. dev. of 7 runs, 10,000 loops each)\n"
     ]
    }
   ],
   "source": [
    "# --- Order total ex VAT (Local currency) - np multiply by reading from np arrays\n",
    "%timeit sales_data_item_qty = np.array(sales_data[\"item_qty\"])\n",
    "sales_data_item_qty = np.array(sales_data[\"item_qty\"])\n",
    "\n",
    "%timeit sales_data_item_price = np.array(sales_data[\"item_price\"])\n",
    "sales_data_item_price = np.array(sales_data[\"item_price\"])\n",
    "\n",
    "%timeit sales_data_order_total_ex_vat_local_currency = np.around(np.multiply(sales_data_item_qty, \\\n",
    "                                                                 sales_data_item_price), \\\n",
    "                                                                 decimals = 2)\n",
    "\n",
    "sales_data_order_total_ex_vat_local_currency = np.around(np.multiply(sales_data_item_qty, \\\n",
    "                                                         sales_data_item_price), \\\n",
    "                                                         decimals = 2)\n",
    "\n",
    "%timeit sales_data[\"order_total_ex_vat_local_currency\"] = sales_data_order_total_ex_vat_local_currency"
   ]
  },
  {
   "cell_type": "code",
   "execution_count": 12,
   "metadata": {},
   "outputs": [
    {
     "data": {
      "text/html": [
       "<div>\n",
       "<style scoped>\n",
       "    .dataframe tbody tr th:only-of-type {\n",
       "        vertical-align: middle;\n",
       "    }\n",
       "\n",
       "    .dataframe tbody tr th {\n",
       "        vertical-align: top;\n",
       "    }\n",
       "\n",
       "    .dataframe thead th {\n",
       "        text-align: right;\n",
       "    }\n",
       "</style>\n",
       "<table border=\"1\" class=\"dataframe\">\n",
       "  <thead>\n",
       "    <tr style=\"text-align: right;\">\n",
       "      <th></th>\n",
       "      <th>order_id</th>\n",
       "      <th>order_date</th>\n",
       "      <th>customer_id</th>\n",
       "      <th>customer_first_name</th>\n",
       "      <th>customer_last_name</th>\n",
       "      <th>customer_gender</th>\n",
       "      <th>customer_city</th>\n",
       "      <th>customer_country</th>\n",
       "      <th>item_description</th>\n",
       "      <th>item_qty</th>\n",
       "      <th>item_price</th>\n",
       "      <th>order_currency</th>\n",
       "      <th>order_vat_rate</th>\n",
       "      <th>order_total_ex_vat_local_currency_pandas</th>\n",
       "      <th>order_total_ex_vat_local_currency_mixed</th>\n",
       "      <th>order_total_ex_vat_local_currency</th>\n",
       "    </tr>\n",
       "  </thead>\n",
       "  <tbody>\n",
       "    <tr>\n",
       "      <th>0</th>\n",
       "      <td>200001</td>\n",
       "      <td>2020-04-23</td>\n",
       "      <td>1001</td>\n",
       "      <td>Erin</td>\n",
       "      <td>Evans</td>\n",
       "      <td>Female</td>\n",
       "      <td>Swansea</td>\n",
       "      <td>United Kingdom</td>\n",
       "      <td>Tequila - Sauza Silver</td>\n",
       "      <td>45</td>\n",
       "      <td>2.27</td>\n",
       "      <td>GBP</td>\n",
       "      <td>20.0</td>\n",
       "      <td>102.15</td>\n",
       "      <td>102.15</td>\n",
       "      <td>102.15</td>\n",
       "    </tr>\n",
       "  </tbody>\n",
       "</table>\n",
       "</div>"
      ],
      "text/plain": [
       "   order_id order_date  customer_id customer_first_name customer_last_name  \\\n",
       "0    200001 2020-04-23         1001                Erin              Evans   \n",
       "\n",
       "  customer_gender customer_city customer_country        item_description  \\\n",
       "0          Female       Swansea   United Kingdom  Tequila - Sauza Silver   \n",
       "\n",
       "   item_qty  item_price order_currency  order_vat_rate  \\\n",
       "0        45        2.27            GBP            20.0   \n",
       "\n",
       "   order_total_ex_vat_local_currency_pandas  \\\n",
       "0                                    102.15   \n",
       "\n",
       "   order_total_ex_vat_local_currency_mixed  order_total_ex_vat_local_currency  \n",
       "0                                   102.15                             102.15  "
      ]
     },
     "execution_count": 12,
     "metadata": {},
     "output_type": "execute_result"
    }
   ],
   "source": [
    "sales_data.head(n = 1)"
   ]
  },
  {
   "cell_type": "code",
   "execution_count": 13,
   "metadata": {},
   "outputs": [
    {
     "data": {
      "text/html": [
       "<div>\n",
       "<style scoped>\n",
       "    .dataframe tbody tr th:only-of-type {\n",
       "        vertical-align: middle;\n",
       "    }\n",
       "\n",
       "    .dataframe tbody tr th {\n",
       "        vertical-align: top;\n",
       "    }\n",
       "\n",
       "    .dataframe thead th {\n",
       "        text-align: right;\n",
       "    }\n",
       "</style>\n",
       "<table border=\"1\" class=\"dataframe\">\n",
       "  <thead>\n",
       "    <tr style=\"text-align: right;\">\n",
       "      <th></th>\n",
       "      <th>order_id</th>\n",
       "      <th>order_date</th>\n",
       "      <th>customer_id</th>\n",
       "      <th>customer_first_name</th>\n",
       "      <th>customer_last_name</th>\n",
       "      <th>customer_gender</th>\n",
       "      <th>customer_city</th>\n",
       "      <th>customer_country</th>\n",
       "      <th>item_description</th>\n",
       "      <th>item_qty</th>\n",
       "      <th>item_price</th>\n",
       "      <th>order_currency</th>\n",
       "      <th>order_vat_rate</th>\n",
       "      <th>order_total_ex_vat_local_currency</th>\n",
       "    </tr>\n",
       "  </thead>\n",
       "  <tbody>\n",
       "    <tr>\n",
       "      <th>0</th>\n",
       "      <td>200001</td>\n",
       "      <td>2020-04-23</td>\n",
       "      <td>1001</td>\n",
       "      <td>Erin</td>\n",
       "      <td>Evans</td>\n",
       "      <td>Female</td>\n",
       "      <td>Swansea</td>\n",
       "      <td>United Kingdom</td>\n",
       "      <td>Tequila - Sauza Silver</td>\n",
       "      <td>45</td>\n",
       "      <td>2.27</td>\n",
       "      <td>GBP</td>\n",
       "      <td>20.0</td>\n",
       "      <td>102.15</td>\n",
       "    </tr>\n",
       "  </tbody>\n",
       "</table>\n",
       "</div>"
      ],
      "text/plain": [
       "   order_id order_date  customer_id customer_first_name customer_last_name  \\\n",
       "0    200001 2020-04-23         1001                Erin              Evans   \n",
       "\n",
       "  customer_gender customer_city customer_country        item_description  \\\n",
       "0          Female       Swansea   United Kingdom  Tequila - Sauza Silver   \n",
       "\n",
       "   item_qty  item_price order_currency  order_vat_rate  \\\n",
       "0        45        2.27            GBP            20.0   \n",
       "\n",
       "   order_total_ex_vat_local_currency  \n",
       "0                             102.15  "
      ]
     },
     "execution_count": 13,
     "metadata": {},
     "output_type": "execute_result"
    }
   ],
   "source": [
    "sales_data.drop(labels = [\"order_total_ex_vat_local_currency_pandas\",\"order_total_ex_vat_local_currency_mixed\"], \n",
    "                axis = 1,\n",
    "                inplace = True)\n",
    "\n",
    "sales_data.head(n = 1)"
   ]
  },
  {
   "cell_type": "code",
   "execution_count": 14,
   "metadata": {},
   "outputs": [],
   "source": [
    "# --- Order VAT (Local currency)\n",
    "sales_data_order_vat_rate = np.array(sales_data[\"order_vat_rate\"])\n",
    "sales_data_order_total_vat_local_currency = np.around(np.multiply(sales_data_order_total_ex_vat_local_currency,\n",
    "                                                            sales_data_order_vat_rate) / 100,\n",
    "                                                            decimals = 2)\n",
    "\n",
    "sales_data[\"order_total_vat_local_currency\"] = sales_data_order_total_vat_local_currency"
   ]
  },
  {
   "cell_type": "code",
   "execution_count": 15,
   "metadata": {},
   "outputs": [],
   "source": [
    "# --- Order total inc VAT (Local currency)\n",
    "sales_data_order_total_inc_vat_local_currency = np.around(np.add(sales_data_order_total_ex_vat_local_currency, \n",
    "                                                               sales_data_order_total_vat_local_currency), \n",
    "                                                               decimals = 2)\n",
    "\n",
    "sales_data[\"order_total_inc_vat_local_currency\"] = sales_data_order_total_inc_vat_local_currency"
   ]
  },
  {
   "cell_type": "markdown",
   "metadata": {},
   "source": [
    "### Create a Currency Conversion Rate Column"
   ]
  },
  {
   "cell_type": "code",
   "execution_count": 16,
   "metadata": {},
   "outputs": [
    {
     "data": {
      "text/plain": [
       "GBP    4000\n",
       "EUR    1000\n",
       "Name: order_currency, dtype: int64"
      ]
     },
     "execution_count": 16,
     "metadata": {},
     "output_type": "execute_result"
    }
   ],
   "source": [
    "sales_data[\"order_currency\"].value_counts()"
   ]
  },
  {
   "cell_type": "code",
   "execution_count": 17,
   "metadata": {},
   "outputs": [],
   "source": [
    "# --- Conversion rate\n",
    "sales_data[\"order_currency_conversion_rate\"] = sales_data[\"order_currency\"].apply(lambda currency: 1.00 if currency == \"GBP\" else\\\n",
    "                                                                                  (0.84 if currency == \"EUR\" else 1.00))"
   ]
  },
  {
   "cell_type": "code",
   "execution_count": 18,
   "metadata": {},
   "outputs": [
    {
     "data": {
      "text/html": [
       "<div>\n",
       "<style scoped>\n",
       "    .dataframe tbody tr th:only-of-type {\n",
       "        vertical-align: middle;\n",
       "    }\n",
       "\n",
       "    .dataframe tbody tr th {\n",
       "        vertical-align: top;\n",
       "    }\n",
       "\n",
       "    .dataframe thead th {\n",
       "        text-align: right;\n",
       "    }\n",
       "</style>\n",
       "<table border=\"1\" class=\"dataframe\">\n",
       "  <thead>\n",
       "    <tr style=\"text-align: right;\">\n",
       "      <th></th>\n",
       "      <th>order_id</th>\n",
       "      <th>order_date</th>\n",
       "      <th>customer_id</th>\n",
       "      <th>customer_first_name</th>\n",
       "      <th>customer_last_name</th>\n",
       "      <th>customer_gender</th>\n",
       "      <th>customer_city</th>\n",
       "      <th>customer_country</th>\n",
       "      <th>item_description</th>\n",
       "      <th>item_qty</th>\n",
       "      <th>item_price</th>\n",
       "      <th>order_currency</th>\n",
       "      <th>order_vat_rate</th>\n",
       "      <th>order_total_ex_vat_local_currency</th>\n",
       "      <th>order_total_vat_local_currency</th>\n",
       "      <th>order_total_inc_vat_local_currency</th>\n",
       "      <th>order_currency_conversion_rate</th>\n",
       "    </tr>\n",
       "  </thead>\n",
       "  <tbody>\n",
       "    <tr>\n",
       "      <th>0</th>\n",
       "      <td>200001</td>\n",
       "      <td>2020-04-23</td>\n",
       "      <td>1001</td>\n",
       "      <td>Erin</td>\n",
       "      <td>Evans</td>\n",
       "      <td>Female</td>\n",
       "      <td>Swansea</td>\n",
       "      <td>United Kingdom</td>\n",
       "      <td>Tequila - Sauza Silver</td>\n",
       "      <td>45</td>\n",
       "      <td>2.27</td>\n",
       "      <td>GBP</td>\n",
       "      <td>20.0</td>\n",
       "      <td>102.15</td>\n",
       "      <td>20.43</td>\n",
       "      <td>122.58</td>\n",
       "      <td>1.0</td>\n",
       "    </tr>\n",
       "  </tbody>\n",
       "</table>\n",
       "</div>"
      ],
      "text/plain": [
       "   order_id order_date  customer_id customer_first_name customer_last_name  \\\n",
       "0    200001 2020-04-23         1001                Erin              Evans   \n",
       "\n",
       "  customer_gender customer_city customer_country        item_description  \\\n",
       "0          Female       Swansea   United Kingdom  Tequila - Sauza Silver   \n",
       "\n",
       "   item_qty  item_price order_currency  order_vat_rate  \\\n",
       "0        45        2.27            GBP            20.0   \n",
       "\n",
       "   order_total_ex_vat_local_currency  order_total_vat_local_currency  \\\n",
       "0                             102.15                           20.43   \n",
       "\n",
       "   order_total_inc_vat_local_currency  order_currency_conversion_rate  \n",
       "0                              122.58                             1.0  "
      ]
     },
     "execution_count": 18,
     "metadata": {},
     "output_type": "execute_result"
    }
   ],
   "source": [
    "sales_data.head(n = 1)"
   ]
  },
  {
   "cell_type": "code",
   "execution_count": 19,
   "metadata": {},
   "outputs": [
    {
     "data": {
      "text/html": [
       "<div>\n",
       "<style scoped>\n",
       "    .dataframe tbody tr th:only-of-type {\n",
       "        vertical-align: middle;\n",
       "    }\n",
       "\n",
       "    .dataframe tbody tr th {\n",
       "        vertical-align: top;\n",
       "    }\n",
       "\n",
       "    .dataframe thead th {\n",
       "        text-align: right;\n",
       "    }\n",
       "</style>\n",
       "<table border=\"1\" class=\"dataframe\">\n",
       "  <thead>\n",
       "    <tr style=\"text-align: right;\">\n",
       "      <th></th>\n",
       "      <th>order_id</th>\n",
       "      <th>order_date</th>\n",
       "      <th>customer_id</th>\n",
       "      <th>customer_first_name</th>\n",
       "      <th>customer_last_name</th>\n",
       "      <th>customer_gender</th>\n",
       "      <th>customer_city</th>\n",
       "      <th>customer_country</th>\n",
       "      <th>item_description</th>\n",
       "      <th>item_qty</th>\n",
       "      <th>item_price</th>\n",
       "      <th>order_currency</th>\n",
       "      <th>order_vat_rate</th>\n",
       "      <th>order_total_ex_vat_local_currency</th>\n",
       "      <th>order_total_vat_local_currency</th>\n",
       "      <th>order_total_inc_vat_local_currency</th>\n",
       "      <th>order_currency_conversion_rate</th>\n",
       "    </tr>\n",
       "  </thead>\n",
       "  <tbody>\n",
       "    <tr>\n",
       "      <th>4999</th>\n",
       "      <td>205001</td>\n",
       "      <td>2021-06-05</td>\n",
       "      <td>1005</td>\n",
       "      <td>Marie</td>\n",
       "      <td>Braam</td>\n",
       "      <td>Other</td>\n",
       "      <td>Utrecht</td>\n",
       "      <td>Netherlands</td>\n",
       "      <td>Tabasco Sauce - 2 Oz</td>\n",
       "      <td>32</td>\n",
       "      <td>1.89</td>\n",
       "      <td>EUR</td>\n",
       "      <td>21.0</td>\n",
       "      <td>60.48</td>\n",
       "      <td>12.7</td>\n",
       "      <td>73.18</td>\n",
       "      <td>0.84</td>\n",
       "    </tr>\n",
       "  </tbody>\n",
       "</table>\n",
       "</div>"
      ],
      "text/plain": [
       "      order_id order_date  customer_id customer_first_name customer_last_name  \\\n",
       "4999    205001 2021-06-05         1005               Marie              Braam   \n",
       "\n",
       "     customer_gender customer_city customer_country      item_description  \\\n",
       "4999           Other       Utrecht      Netherlands  Tabasco Sauce - 2 Oz   \n",
       "\n",
       "      item_qty  item_price order_currency  order_vat_rate  \\\n",
       "4999        32        1.89            EUR            21.0   \n",
       "\n",
       "      order_total_ex_vat_local_currency  order_total_vat_local_currency  \\\n",
       "4999                              60.48                            12.7   \n",
       "\n",
       "      order_total_inc_vat_local_currency  order_currency_conversion_rate  \n",
       "4999                               73.18                            0.84  "
      ]
     },
     "execution_count": 19,
     "metadata": {},
     "output_type": "execute_result"
    }
   ],
   "source": [
    "sales_data.tail(n = 1)"
   ]
  },
  {
   "cell_type": "markdown",
   "metadata": {},
   "source": [
    "### Create the Totals Columns For Converted Currency"
   ]
  },
  {
   "cell_type": "code",
   "execution_count": 20,
   "metadata": {},
   "outputs": [],
   "source": [
    "sales_data_currency_conversion_rate = np.array(sales_data[\"order_currency_conversion_rate\"])"
   ]
  },
  {
   "cell_type": "code",
   "execution_count": 21,
   "metadata": {},
   "outputs": [],
   "source": [
    "# --- ex vat converted\n",
    "sales_data[\"order_total_ex_vat_converted_gbp\"] = np.around(np.multiply(sales_data_order_total_ex_vat_local_currency, \n",
    "                                                                            sales_data_currency_conversion_rate), \n",
    "                                                                            decimals = 2)"
   ]
  },
  {
   "cell_type": "code",
   "execution_count": 22,
   "metadata": {},
   "outputs": [],
   "source": [
    "# --- total vat converted\n",
    "sales_data[\"order_total_vat_converted_gbp\"] = np.around(np.multiply(sales_data_order_total_vat_local_currency, \n",
    "                                                                         sales_data_currency_conversion_rate), \n",
    "                                                                         decimals = 2)"
   ]
  },
  {
   "cell_type": "code",
   "execution_count": 23,
   "metadata": {},
   "outputs": [],
   "source": [
    "# --- total inc vat converted\n",
    "sales_data[\"order_total_inc_vat_converted_gbp\"] = np.around(np.multiply(sales_data_order_total_inc_vat_local_currency, \n",
    "                                                                             sales_data_currency_conversion_rate), \n",
    "                                                                             decimals = 2)"
   ]
  },
  {
   "cell_type": "code",
   "execution_count": 24,
   "metadata": {},
   "outputs": [
    {
     "data": {
      "text/html": [
       "<div>\n",
       "<style scoped>\n",
       "    .dataframe tbody tr th:only-of-type {\n",
       "        vertical-align: middle;\n",
       "    }\n",
       "\n",
       "    .dataframe tbody tr th {\n",
       "        vertical-align: top;\n",
       "    }\n",
       "\n",
       "    .dataframe thead th {\n",
       "        text-align: right;\n",
       "    }\n",
       "</style>\n",
       "<table border=\"1\" class=\"dataframe\">\n",
       "  <thead>\n",
       "    <tr style=\"text-align: right;\">\n",
       "      <th></th>\n",
       "      <th>order_id</th>\n",
       "      <th>order_date</th>\n",
       "      <th>customer_id</th>\n",
       "      <th>customer_first_name</th>\n",
       "      <th>customer_last_name</th>\n",
       "      <th>customer_gender</th>\n",
       "      <th>customer_city</th>\n",
       "      <th>customer_country</th>\n",
       "      <th>item_description</th>\n",
       "      <th>item_qty</th>\n",
       "      <th>item_price</th>\n",
       "      <th>order_currency</th>\n",
       "      <th>order_vat_rate</th>\n",
       "      <th>order_total_ex_vat_local_currency</th>\n",
       "      <th>order_total_vat_local_currency</th>\n",
       "      <th>order_total_inc_vat_local_currency</th>\n",
       "      <th>order_currency_conversion_rate</th>\n",
       "      <th>order_total_ex_vat_converted_gbp</th>\n",
       "      <th>order_total_vat_converted_gbp</th>\n",
       "      <th>order_total_inc_vat_converted_gbp</th>\n",
       "    </tr>\n",
       "  </thead>\n",
       "  <tbody>\n",
       "    <tr>\n",
       "      <th>0</th>\n",
       "      <td>200001</td>\n",
       "      <td>2020-04-23</td>\n",
       "      <td>1001</td>\n",
       "      <td>Erin</td>\n",
       "      <td>Evans</td>\n",
       "      <td>Female</td>\n",
       "      <td>Swansea</td>\n",
       "      <td>United Kingdom</td>\n",
       "      <td>Tequila - Sauza Silver</td>\n",
       "      <td>45</td>\n",
       "      <td>2.27</td>\n",
       "      <td>GBP</td>\n",
       "      <td>20.0</td>\n",
       "      <td>102.15</td>\n",
       "      <td>20.43</td>\n",
       "      <td>122.58</td>\n",
       "      <td>1.0</td>\n",
       "      <td>102.15</td>\n",
       "      <td>20.43</td>\n",
       "      <td>122.58</td>\n",
       "    </tr>\n",
       "  </tbody>\n",
       "</table>\n",
       "</div>"
      ],
      "text/plain": [
       "   order_id order_date  customer_id customer_first_name customer_last_name  \\\n",
       "0    200001 2020-04-23         1001                Erin              Evans   \n",
       "\n",
       "  customer_gender customer_city customer_country        item_description  \\\n",
       "0          Female       Swansea   United Kingdom  Tequila - Sauza Silver   \n",
       "\n",
       "   item_qty  item_price order_currency  order_vat_rate  \\\n",
       "0        45        2.27            GBP            20.0   \n",
       "\n",
       "   order_total_ex_vat_local_currency  order_total_vat_local_currency  \\\n",
       "0                             102.15                           20.43   \n",
       "\n",
       "   order_total_inc_vat_local_currency  order_currency_conversion_rate  \\\n",
       "0                              122.58                             1.0   \n",
       "\n",
       "   order_total_ex_vat_converted_gbp  order_total_vat_converted_gbp  \\\n",
       "0                            102.15                          20.43   \n",
       "\n",
       "   order_total_inc_vat_converted_gbp  \n",
       "0                             122.58  "
      ]
     },
     "execution_count": 24,
     "metadata": {},
     "output_type": "execute_result"
    }
   ],
   "source": [
    "sales_data.head(n = 1)"
   ]
  },
  {
   "cell_type": "code",
   "execution_count": 25,
   "metadata": {},
   "outputs": [
    {
     "data": {
      "text/html": [
       "<div>\n",
       "<style scoped>\n",
       "    .dataframe tbody tr th:only-of-type {\n",
       "        vertical-align: middle;\n",
       "    }\n",
       "\n",
       "    .dataframe tbody tr th {\n",
       "        vertical-align: top;\n",
       "    }\n",
       "\n",
       "    .dataframe thead th {\n",
       "        text-align: right;\n",
       "    }\n",
       "</style>\n",
       "<table border=\"1\" class=\"dataframe\">\n",
       "  <thead>\n",
       "    <tr style=\"text-align: right;\">\n",
       "      <th></th>\n",
       "      <th>order_id</th>\n",
       "      <th>order_date</th>\n",
       "      <th>customer_id</th>\n",
       "      <th>customer_first_name</th>\n",
       "      <th>customer_last_name</th>\n",
       "      <th>customer_gender</th>\n",
       "      <th>customer_city</th>\n",
       "      <th>customer_country</th>\n",
       "      <th>item_description</th>\n",
       "      <th>item_qty</th>\n",
       "      <th>item_price</th>\n",
       "      <th>order_currency</th>\n",
       "      <th>order_vat_rate</th>\n",
       "      <th>order_total_ex_vat_local_currency</th>\n",
       "      <th>order_total_vat_local_currency</th>\n",
       "      <th>order_total_inc_vat_local_currency</th>\n",
       "      <th>order_currency_conversion_rate</th>\n",
       "      <th>order_total_ex_vat_converted_gbp</th>\n",
       "      <th>order_total_vat_converted_gbp</th>\n",
       "      <th>order_total_inc_vat_converted_gbp</th>\n",
       "    </tr>\n",
       "  </thead>\n",
       "  <tbody>\n",
       "    <tr>\n",
       "      <th>4999</th>\n",
       "      <td>205001</td>\n",
       "      <td>2021-06-05</td>\n",
       "      <td>1005</td>\n",
       "      <td>Marie</td>\n",
       "      <td>Braam</td>\n",
       "      <td>Other</td>\n",
       "      <td>Utrecht</td>\n",
       "      <td>Netherlands</td>\n",
       "      <td>Tabasco Sauce - 2 Oz</td>\n",
       "      <td>32</td>\n",
       "      <td>1.89</td>\n",
       "      <td>EUR</td>\n",
       "      <td>21.0</td>\n",
       "      <td>60.48</td>\n",
       "      <td>12.7</td>\n",
       "      <td>73.18</td>\n",
       "      <td>0.84</td>\n",
       "      <td>50.8</td>\n",
       "      <td>10.67</td>\n",
       "      <td>61.47</td>\n",
       "    </tr>\n",
       "  </tbody>\n",
       "</table>\n",
       "</div>"
      ],
      "text/plain": [
       "      order_id order_date  customer_id customer_first_name customer_last_name  \\\n",
       "4999    205001 2021-06-05         1005               Marie              Braam   \n",
       "\n",
       "     customer_gender customer_city customer_country      item_description  \\\n",
       "4999           Other       Utrecht      Netherlands  Tabasco Sauce - 2 Oz   \n",
       "\n",
       "      item_qty  item_price order_currency  order_vat_rate  \\\n",
       "4999        32        1.89            EUR            21.0   \n",
       "\n",
       "      order_total_ex_vat_local_currency  order_total_vat_local_currency  \\\n",
       "4999                              60.48                            12.7   \n",
       "\n",
       "      order_total_inc_vat_local_currency  order_currency_conversion_rate  \\\n",
       "4999                               73.18                            0.84   \n",
       "\n",
       "      order_total_ex_vat_converted_gbp  order_total_vat_converted_gbp  \\\n",
       "4999                              50.8                          10.67   \n",
       "\n",
       "      order_total_inc_vat_converted_gbp  \n",
       "4999                              61.47  "
      ]
     },
     "execution_count": 25,
     "metadata": {},
     "output_type": "execute_result"
    }
   ],
   "source": [
    "sales_data.tail(n = 1)"
   ]
  },
  {
   "cell_type": "code",
   "execution_count": 26,
   "metadata": {},
   "outputs": [
    {
     "data": {
      "text/plain": [
       "order_id                                       int64\n",
       "order_date                            datetime64[ns]\n",
       "customer_id                                    int64\n",
       "customer_first_name                           object\n",
       "customer_last_name                            object\n",
       "customer_gender                               object\n",
       "customer_city                                 object\n",
       "customer_country                              object\n",
       "item_description                              object\n",
       "item_qty                                       int64\n",
       "item_price                                   float64\n",
       "order_currency                                object\n",
       "order_vat_rate                               float64\n",
       "order_total_ex_vat_local_currency            float64\n",
       "order_total_vat_local_currency               float64\n",
       "order_total_inc_vat_local_currency           float64\n",
       "order_currency_conversion_rate               float64\n",
       "order_total_ex_vat_converted_gbp             float64\n",
       "order_total_vat_converted_gbp                float64\n",
       "order_total_inc_vat_converted_gbp            float64\n",
       "dtype: object"
      ]
     },
     "execution_count": 26,
     "metadata": {},
     "output_type": "execute_result"
    }
   ],
   "source": [
    "sales_data.dtypes"
   ]
  },
  {
   "cell_type": "code",
   "execution_count": 27,
   "metadata": {},
   "outputs": [
    {
     "data": {
      "text/plain": [
       "order_id                              0\n",
       "order_date                            0\n",
       "customer_id                           0\n",
       "customer_first_name                   0\n",
       "customer_last_name                    0\n",
       "customer_gender                       0\n",
       "customer_city                         0\n",
       "customer_country                      0\n",
       "item_description                      0\n",
       "item_qty                              0\n",
       "item_price                            0\n",
       "order_currency                        0\n",
       "order_vat_rate                        0\n",
       "order_total_ex_vat_local_currency     0\n",
       "order_total_vat_local_currency        0\n",
       "order_total_inc_vat_local_currency    0\n",
       "order_currency_conversion_rate        0\n",
       "order_total_ex_vat_converted_gbp      0\n",
       "order_total_vat_converted_gbp         0\n",
       "order_total_inc_vat_converted_gbp     0\n",
       "dtype: int64"
      ]
     },
     "execution_count": 27,
     "metadata": {},
     "output_type": "execute_result"
    }
   ],
   "source": [
    "sales_data.isna().sum()"
   ]
  },
  {
   "cell_type": "markdown",
   "metadata": {},
   "source": [
    "## Exporting data back to Excel"
   ]
  },
  {
   "cell_type": "code",
   "execution_count": 28,
   "metadata": {},
   "outputs": [],
   "source": [
    "with pd.ExcelWriter(path = \"data/order_data_with_totals.xlsx\", \n",
    "                    engine = \"xlsxwriter\",\n",
    "                    date_format = \"YYYY-MM-DD\",\n",
    "                    datetime_format = \"YYYY-MM-DD\") as writer:\n",
    "    \n",
    "    sales_data.to_excel(writer, \n",
    "                        index = False,\n",
    "                        sheet_name = \"order_data_with_totals\")"
   ]
  }
 ],
 "metadata": {
  "kernelspec": {
   "display_name": "Python 3.10.4",
   "language": "python",
   "name": "python3"
  },
  "language_info": {
   "codemirror_mode": {
    "name": "ipython",
    "version": 3
   },
   "file_extension": ".py",
   "mimetype": "text/x-python",
   "name": "python",
   "nbconvert_exporter": "python",
   "pygments_lexer": "ipython3",
   "version": "3.10.4"
  },
  "orig_nbformat": 4,
  "vscode": {
   "interpreter": {
    "hash": "4d75270ac13a007e0f8cbe0ccbc8bce419b323befac3f7ad9a0bd772cb850a7e"
   }
  }
 },
 "nbformat": 4,
 "nbformat_minor": 2
}
